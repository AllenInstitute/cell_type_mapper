{
 "cells": [
  {
   "cell_type": "markdown",
   "id": "6e5be3bd-7bc9-45e3-9485-2e5278b32004",
   "metadata": {},
   "source": [
    "## Cross species mapping with MapMyCells\n",
    "\n",
    "In this notebook, we will demonstrate how to map data from one species onto a taxonomy defined in another.\n",
    "\n",
    "We will take as our data, single nucleus RNA seq data from the rat ventral tegmental area as published in [Phillips et al. 2022](https://www.cell.com/cell-reports/pdf/S2211-1247(22)00364-3.pdf).\n",
    "\n",
    "First, you must download the data from [this page](https://www.ncbi.nlm.nih.gov/geo/query/acc.cgi?acc=GSE168156) (see the `http` link for `GSE168156_RAW.tar` at the bottom). Move the resulting `.tar` file into a directory and untar it. Store the directory as `data_dir` below."
   ]
  },
  {
   "cell_type": "code",
   "execution_count": 1,
   "id": "1b98fc52-9fc3-40eb-b7c0-56165369f4fb",
   "metadata": {},
   "outputs": [],
   "source": [
    "import os\n",
    "os.environ['NUMEXPR_NUM_THREADS'] = '1'\n",
    "os.environ['MKL_NUM_THREADS'] = '1'\n",
    "os.environ['OMP_NUM_THREADS'] = '1'"
   ]
  },
  {
   "cell_type": "code",
   "execution_count": 2,
   "id": "a2183d22-ec5b-4eac-a2cb-e02bc5df3d44",
   "metadata": {},
   "outputs": [],
   "source": [
    "import pathlib\n",
    "data_dir = pathlib.Path('data/rat')"
   ]
  },
  {
   "cell_type": "code",
   "execution_count": 3,
   "id": "ec1ac299-ff4b-458f-af8a-53fa9385a47a",
   "metadata": {},
   "outputs": [],
   "source": [
    "expected_data_list = [\n",
    "    pathlib.Path('data/rat/GSE168156_RAW.tar'),\n",
    "    pathlib.Path('data/rat/GSM5130024_F1_barcodes.tsv.gz'),\n",
    "    pathlib.Path('data/rat/GSM5130024_F1_features.tsv.gz'),\n",
    "    pathlib.Path('data/rat/GSM5130024_F1_matrix.mtx.gz'),\n",
    "    pathlib.Path('data/rat/GSM5130025_F2_barcodes.tsv.gz'),\n",
    "    pathlib.Path('data/rat/GSM5130025_F2_features.tsv.gz'),\n",
    "    pathlib.Path('data/rat/GSM5130025_F2_matrix.mtx.gz'),\n",
    "    pathlib.Path('data/rat/GSM5130026_M1_barcodes.tsv.gz'),\n",
    "    pathlib.Path('data/rat/GSM5130026_M1_features.tsv.gz'),\n",
    "    pathlib.Path('data/rat/GSM5130026_M1_matrix.mtx.gz'),\n",
    "    pathlib.Path('data/rat/GSM5130027_M2_barcodes.tsv.gz'),\n",
    "    pathlib.Path('data/rat/GSM5130027_M2_features.tsv.gz'),\n",
    "    pathlib.Path('data/rat/GSM5130027_M2_matrix.mtx.gz')\n",
    "]\n",
    "actual_data_list = sorted([n for n in data_dir.iterdir() if n.is_file()])\n",
    "msg = \"\"\n",
    "for pth in expected_data_list:\n",
    "    if pth not in actual_data_list:\n",
    "        msg += f\"{pth}\\n\"\n",
    "if len(msg) > 0:\n",
    "    raise RuntimeError(\n",
    "        \"You seem not to have downloaded and untarred the data; the following files were missing:\\n\"\n",
    "        f\"{msg}\"\n",
    "    )"
   ]
  },
  {
   "cell_type": "markdown",
   "id": "eb2ae997-dd31-4154-a441-92e8fefd58d8",
   "metadata": {},
   "source": [
    "## Create h5ad file for mapping\n",
    "\n",
    "The data you downloaded exists as a series of tsv and mtx files. We must collect these into a single h5ad file for mapping with MapMyCells.\n",
    "\n",
    "Each triplet of barcodes.tsv, features.tsv, and matrix.mtx file represents data from a single donor. We will create separate AnnData objects for each of these, concatenate them into a single AnnData object, and write that out into one h5ad file."
   ]
  },
  {
   "cell_type": "code",
   "execution_count": 4,
   "id": "0756717c-fca3-4c73-b400-e9e4e5b860b2",
   "metadata": {},
   "outputs": [],
   "source": [
    "working_dir = data_dir / 'working'\n",
    "if not working_dir.exists():\n",
    "    working_dir.mkdir(parents=True)"
   ]
  },
  {
   "cell_type": "code",
   "execution_count": 5,
   "id": "23fb761c-b0fa-4341-9c53-b61cadb65086",
   "metadata": {},
   "outputs": [],
   "source": [
    "import anndata\n",
    "import gzip\n",
    "import numpy as np\n",
    "import scipy.sparse\n",
    "import pandas as pd\n",
    "import re"
   ]
  },
  {
   "cell_type": "markdown",
   "id": "1f6b2f52-fa61-4d3c-85dc-fe0646b3e36b",
   "metadata": {},
   "source": [
    "The barcodes.tsv file is just a list of barcodes. These are the labels of the cells taken from the donor, **which are only unique to this donor**.\n",
    "\n",
    "The features.tsv file lists the genes. It has three columns: the ENSEMBL ID of the gene, the gene symbol, and an annotation describing the type of gene.\n",
    "\n",
    "The matrix.mtx file contains the actual gene expression data. It has three columns:\n",
    "- gene_index\n",
    "- cell_index (relative to *this*) mtx file\n",
    "- expression value"
   ]
  },
  {
   "cell_type": "code",
   "execution_count": 6,
   "id": "35346fc1-d013-4b2b-865b-982cdc136bc9",
   "metadata": {},
   "outputs": [],
   "source": [
    "def create_anndata_obj(\n",
    "        obs_prefix,\n",
    "        barcode_path,\n",
    "        feature_path,\n",
    "        matrix_path):\n",
    "    \"\"\"\n",
    "    Create an AnnData object for a single (barcodes, features, matrix) triplet\n",
    "\n",
    "    Parameters\n",
    "    ----------\n",
    "    prefix:\n",
    "        a str; prefix prepended to cell barcodes to keep them unique\n",
    "        across the whole dataset\n",
    "    barcode_path:\n",
    "        path to the barcode.tsv file\n",
    "    feature_path:\n",
    "        path to the features.tsv file\n",
    "    matrix_path:\n",
    "        path to the matrix.mtx file\n",
    "\n",
    "    Returns\n",
    "    -------\n",
    "    an anndata.AnnData object\n",
    "    \"\"\"\n",
    "    raw_obs = pd.read_csv(\n",
    "        barcode_path,\n",
    "        delimiter='\\t',\n",
    "        names=['barcode']\n",
    "    )\n",
    "    obs = pd.DataFrame([{'cell': f'{obs_prefix}_{b}'} for b in raw_obs.barcode.values]).set_index('cell')\n",
    "\n",
    "    var = pd.read_csv(\n",
    "        feature_path,\n",
    "        delimiter='\\t',\n",
    "        names=['ENSEMBL', 'symbol', 'annotation']\n",
    "    ).set_index('ENSEMBL')\n",
    "\n",
    "    x_arr = np.zeros((len(obs), len(var)), dtype=np.int32)\n",
    "\n",
    "    with gzip.open(matrix_path, 'r') as src:\n",
    "        _ = src.readline()\n",
    "        _ = src.readline()\n",
    "        header = src.readline()\n",
    "    header = header.split()\n",
    "    n_cells = int(header[1])\n",
    "    n_genes = int(header[0])\n",
    "    n_vals = int(header[2])\n",
    "    assert n_genes == len(var)\n",
    "    assert n_cells == len(obs)\n",
    "\n",
    "    data = pd.read_csv(\n",
    "        matrix_path,\n",
    "        delimiter=' ',\n",
    "        names=['gene_idx', 'cell_idx', 'val'],\n",
    "        dtype={'gene_idx': int, 'cell_idx': int, 'val': np.int32},\n",
    "        skiprows=3\n",
    "    )\n",
    "    assert len(data) == n_vals\n",
    "    x_arr[data.cell_idx.values-1, data.gene_idx.values-1] = data.val.values\n",
    "    x_arr = scipy.sparse.csr_matrix(x_arr)\n",
    "    assert len(x_arr.data) == n_vals\n",
    "\n",
    "    adata = anndata.AnnData(\n",
    "        X=x_arr,\n",
    "        obs=obs,\n",
    "        var=var\n",
    "    )\n",
    "    return adata"
   ]
  },
  {
   "cell_type": "code",
   "execution_count": 7,
   "id": "69ec877d-83f9-4e03-adaf-d2657ae09454",
   "metadata": {},
   "outputs": [],
   "source": [
    "barcode_file_list = sorted([n for n in expected_data_list if 'barcodes' in n.name])"
   ]
  },
  {
   "cell_type": "code",
   "execution_count": 8,
   "id": "de7b5fa6-bd50-4bd3-be01-8ec337bd3a93",
   "metadata": {},
   "outputs": [
    {
     "name": "stdout",
     "output_type": "stream",
     "text": [
      "PROCESSING GSM5130024_F1_barcodes.tsv.gz\n",
      "PROCESSING GSM5130025_F2_barcodes.tsv.gz\n",
      "PROCESSING GSM5130026_M1_barcodes.tsv.gz\n",
      "PROCESSING GSM5130027_M2_barcodes.tsv.gz\n"
     ]
    }
   ],
   "source": [
    "adata_list = []\n",
    "for barcode_path in barcode_file_list:\n",
    "    print(f'PROCESSING {barcode_path.name}')\n",
    "    prefix = barcode_path.name.split('_barcode')[0]\n",
    "    parent = barcode_path.parent\n",
    "    feature_path = parent / barcode_path.name.replace('barcodes', 'features')\n",
    "    matrix_path = parent / barcode_path.name.replace('barcodes.tsv.gz', 'matrix.mtx.gz')\n",
    "    adata_list.append(\n",
    "        create_anndata_obj(\n",
    "            obs_prefix=prefix,\n",
    "            barcode_path=barcode_path,\n",
    "            feature_path=feature_path,\n",
    "            matrix_path=matrix_path\n",
    "        )\n",
    "    )\n",
    "    "
   ]
  },
  {
   "cell_type": "markdown",
   "id": "3141a558-cd30-43e6-849f-fae77f294bb7",
   "metadata": {},
   "source": [
    "Now, combine the AnnData objects we have created into one and write it out to a single file"
   ]
  },
  {
   "cell_type": "code",
   "execution_count": 9,
   "id": "587467bd-6e3b-4ff7-8696-cb9acb3d554b",
   "metadata": {},
   "outputs": [],
   "source": [
    "query_path = working_dir / 'rat_query_data.h5ad'\n",
    "full_adata = anndata.concat(adata_list)\n",
    "full_adata.write_h5ad(\n",
    "    query_path,\n",
    "    compression='gzip',\n",
    "    compression_opts=4\n",
    ")\n",
    "del full_adata"
   ]
  },
  {
   "cell_type": "markdown",
   "id": "b8134cf3-211c-4e84-8ca8-a57aca796b2e",
   "metadata": {},
   "source": [
    "## Map the data to the Whole Mouse Brain taxonom with MapMyCells\n",
    "\n",
    "In order to run MapMyCells on the h5ad file we just created we are going to need some supporting files, namely\n",
    "- The files that define the taxonomy itself\n",
    "- A database file that will handle the mapping between the rat genes in our query data and the mouse genes in the taxonomy\n",
    "\n",
    "The python API provided by `abc_atlas_access` will allow us to download those files."
   ]
  },
  {
   "cell_type": "code",
   "execution_count": 10,
   "id": "e02358a6-65d5-449d-8a3a-45de3035ce8d",
   "metadata": {},
   "outputs": [],
   "source": [
    "import cell_type_mapper.test_utils.cache_wrapper as cache_module\n",
    "abc_cache_dir = pathlib.Path('data/abc_cache')\n",
    "abc_cache = cache_module.AbcCacheWrapper.from_cache_dir(abc_cache_dir)"
   ]
  },
  {
   "cell_type": "markdown",
   "id": "fcb9334e-1bbf-49d5-8007-675d3b2c105a",
   "metadata": {},
   "source": [
    "Download the `precomputed_stats` and query marker lookup files defining the Whole Mouse Brain taxonomy."
   ]
  },
  {
   "cell_type": "code",
   "execution_count": 11,
   "id": "8f359ffb-8215-4646-91d1-17add7c670f4",
   "metadata": {},
   "outputs": [],
   "source": [
    "wmb_precomputed_stats_path = abc_cache.get_data_path(\n",
    "    directory='WMB-taxonomy',\n",
    "    file_name='precomputed_stats_ABC_revision_230821'\n",
    ")\n",
    "\n",
    "wmb_query_marker_path = abc_cache.get_data_path(\n",
    "    directory='WMB-taxonomy',\n",
    "    file_name='mouse_markers_230821'\n",
    ")"
   ]
  },
  {
   "cell_type": "markdown",
   "id": "38e88329-d319-4b3b-8807-c7f8e924fc4d",
   "metadata": {},
   "source": [
    "Download the database file that will handle the cross-species gene mapping."
   ]
  },
  {
   "cell_type": "code",
   "execution_count": 12,
   "id": "5b652fb8-762c-45b5-a892-f2760926c172",
   "metadata": {},
   "outputs": [],
   "source": [
    "gene_mapper_db_path = abc_cache.get_data_path(\n",
    "    directory='mmc-gene-mapper',\n",
    "    file_name='mmc_gene_mapper.2025-08-04'\n",
    ")"
   ]
  },
  {
   "cell_type": "code",
   "execution_count": 13,
   "id": "78021d3b-99d2-45fe-b5d0-b6834a90f318",
   "metadata": {},
   "outputs": [],
   "source": [
    "from cell_type_mapper.cli.from_specified_markers import FromSpecifiedMarkersRunner"
   ]
  },
  {
   "cell_type": "code",
   "execution_count": 14,
   "id": "d774a941-3396-42e9-b291-849979a49020",
   "metadata": {},
   "outputs": [],
   "source": [
    "mapping_path = working_dir / 'rat_mapped_to_wmb.json'\n",
    "\n",
    "config = {\n",
    "    \"precomputed_stats\": {\n",
    "        \"path\": str(wmb_precomputed_stats_path)\n",
    "    },\n",
    "    \"query_markers\": {\n",
    "        \"serialized_lookup\": str(wmb_query_marker_path)\n",
    "    },\n",
    "    \"drop_level\": \"CCN20230722_SUPT\",\n",
    "    \"query_path\": str(query_path),\n",
    "    \"extended_result_path\": str(mapping_path),\n",
    "    \"type_assignment\": {\n",
    "        \"n_processors\": 4,\n",
    "        \"normalization\": \"raw\"\n",
    "    },\n",
    "    \"verbose_stdout\": True,\n",
    "    \"gene_mapping\": {\n",
    "        \"db_path\": str(gene_mapper_db_path)\n",
    "    }\n",
    "}"
   ]
  },
  {
   "cell_type": "code",
   "execution_count": 15,
   "id": "aaafd35d-810f-45ae-be36-d66d617b799a",
   "metadata": {},
   "outputs": [
    {
     "name": "stdout",
     "output_type": "stream",
     "text": [
      "=== Running Hierarchical Mapping 1.6.0 with config ===\n",
      "{\n",
      "  \"flatten\": false,\n",
      "  \"gene_mapping\": {\n",
      "    \"db_path\": \"/Users/scott.daniel/KnowledgeEngineering/cell_type_mapper/examples/data/abc_cache/mapmycells/mmc-gene-mapper/20250630/mmc_gene_mapper.2025-08-04.db\",\n",
      "    \"log_level\": \"ERROR\"\n",
      "  },\n",
      "  \"obsm_clobber\": false,\n",
      "  \"hdf5_result_path\": null,\n",
      "  \"extended_result_dir\": null,\n",
      "  \"cloud_safe\": false,\n",
      "  \"summary_metadata_path\": null,\n",
      "  \"extended_result_path\": \"data/rat/working/rat_mapped_to_wmb.json\",\n",
      "  \"drop_level\": \"CCN20230722_SUPT\",\n",
      "  \"obsm_key\": null,\n",
      "  \"query_gene_id_col\": null,\n",
      "  \"type_assignment\": {\n",
      "    \"rng_seed\": 11235813,\n",
      "    \"min_markers\": 10,\n",
      "    \"n_processors\": 4,\n",
      "    \"bootstrap_iteration\": 100,\n",
      "    \"bootstrap_factor_lookup\": null,\n",
      "    \"bootstrap_factor\": 0.5,\n",
      "    \"n_runners_up\": 5,\n",
      "    \"chunk_size\": 10000,\n",
      "    \"log_level\": \"ERROR\",\n",
      "    \"normalization\": \"raw\"\n",
      "  },\n",
      "  \"verbose_csv\": false,\n",
      "  \"map_to_ensembl\": false,\n",
      "  \"tmp_dir\": null,\n",
      "  \"nodes_to_drop\": null,\n",
      "  \"csv_result_path\": null,\n",
      "  \"query_path\": \"data/rat/working/rat_query_data.h5ad\",\n",
      "  \"verbose_stdout\": true,\n",
      "  \"precomputed_stats\": {\n",
      "    \"log_level\": \"ERROR\",\n",
      "    \"path\": \"/Users/scott.daniel/KnowledgeEngineering/cell_type_mapper/examples/data/abc_cache/mapmycells/WMB-taxonomy/20240831/precomputed_stats_ABC_revision_230821.h5\"\n",
      "  },\n",
      "  \"log_path\": null,\n",
      "  \"log_level\": \"ERROR\",\n",
      "  \"max_gb\": 100.0,\n",
      "  \"query_markers\": {\n",
      "    \"collapse_markers\": false,\n",
      "    \"serialized_lookup\": \"/Users/scott.daniel/KnowledgeEngineering/cell_type_mapper/examples/data/abc_cache/mapmycells/WMB-taxonomy/20240831/mouse_markers_230821.json\",\n",
      "    \"log_level\": \"ERROR\"\n",
      "  }\n",
      "}\n",
      "ENV: is_torch_available: False\n",
      "ENV: is_cuda_available: False\n",
      "ENV: use_torch: False\n",
      "ENV: multiprocessing start method: spawn\n",
      "ENV: Python version: 3.12.9 | packaged by Anaconda, Inc. | (main, Feb  6 2025, 12:55:12) [Clang 14.0.6 ]\n",
      "ENV: anndata version: 0.12.2\n",
      "ENV: numpy version: 2.2.6\n",
      "BENCHMARK: spent 6.0105e-04 seconds validating config and copying data\n",
      "using ../precomputed_stats_ABC_revision_230821.h5 for precomputed_stats\n",
      "reading taxonomy_tree from ../precomputed_stats_ABC_revision_230821.h5\n"
     ]
    },
    {
     "name": "stderr",
     "output_type": "stream",
     "text": [
      "/Users/scott.daniel/KnowledgeEngineering/cell_type_mapper/src/cell_type_mapper/taxonomy/utils.py:253: UserWarning: This taxonomy has no mapping from leaf_node -> rows in the cell by gene matrix\n",
      "  warnings.warn(\"This taxonomy has no mapping from leaf_node -> rows \"\n"
     ]
    },
    {
     "name": "stdout",
     "output_type": "stream",
     "text": [
      "***Checking to see if we need to map query genes onto reference dataset\n",
      "====Based on 32285 genes, your input data is from species 'Balb/c mouse:10090'\n",
      "Reference data belongs to species Balb/c mouse:10090\n",
      "Reference genes are from authority 'ENSEMBL'\n",
      "Mapping input genes to 'Balb/c mouse:10090 -- ENSEMBL' using\n",
      "http://github.com/AllenInstitute/mmc_gene_mapper version 0.2.0\n",
      "backed by database file: mmc_gene_mapper.2025-08-04.db\n",
      "created on: 2025-08-04-18-10-52\n",
      "hash: md5:755b0724c2ff00cc199f48e2718a09e5\n",
      "Based on 20203 genes, your input data is from species 'brown rat:10116'\n",
      "Input genes are from species 'brown rat:10116'\n",
      "Mapping 12680 input genes from 'symbols' to 'NCBI' (e.g. ['ENSRNOG00000046319' 'ENSRNOG00000047964' 'ENSRNOG00000050370'\n",
      " 'ENSRNOG00000032365' 'ENSRNOG00000058808'])\n",
      "Mapping input genes from 'ENSEMBL' to 'NCBI'\n",
      "Mapping genes from species 'brown rat:10116' to 'Balb/c mouse:10090'\n",
      "Mapping input genes from 'NCBI' to 'ENSEMBL'\n",
      "***Mapping of query genes to reference dataset complete\n"
     ]
    },
    {
     "name": "stderr",
     "output_type": "stream",
     "text": [
      "/Users/scott.daniel/KnowledgeEngineering/cell_type_mapper/src/cell_type_mapper/cli/cli_log.py:73: UserWarning: 1369 marker genes were not present in the query dataset. They have been ignored\n",
      "  warnings.warn(msg)\n"
     ]
    },
    {
     "name": "stdout",
     "output_type": "stream",
     "text": [
      "BENCHMARK: spent 3.7348e-01 seconds creating query marker cache\n",
      "Scanning unlabeled data to check that it is >= 0\n",
      "Verified that unlabeled data is >= 0\n",
      "Running CPU implementation of type assignment.\n"
     ]
    },
    {
     "name": "stderr",
     "output_type": "stream",
     "text": [
      "/Users/scott.daniel/KnowledgeEngineering/cell_type_mapper/src/cell_type_mapper/diff_exp/score_utils.py:303: UserWarning: precomputed stats file does not have 'ge1' data\n",
      "  warnings.warn(\"precomputed stats file does not have 'ge1' data\")\n"
     ]
    },
    {
     "name": "stdout",
     "output_type": "stream",
     "text": [
      "BENCHMARK: spent 7.9758e+01 seconds assigning cell types\n",
      "Writing marker genes to output file\n",
      "MAPPING FROM SPECIFIED MARKERS RAN SUCCESSFULLY\n",
      "CLEANING UP\n",
      "CPU times: user 36.9 s, sys: 47.3 s, total: 1min 24s\n",
      "Wall time: 1min 37s\n"
     ]
    }
   ],
   "source": [
    "%%time\n",
    "runner = FromSpecifiedMarkersRunner(\n",
    "    args=[],\n",
    "    input_data=config\n",
    ")\n",
    "runner.run()"
   ]
  },
  {
   "cell_type": "code",
   "execution_count": 16,
   "id": "1bc4bee8-0644-4e09-a12a-138c7a922ebc",
   "metadata": {},
   "outputs": [],
   "source": [
    "import json\n",
    "with open(mapping_path, 'rb') as src:\n",
    "    mapping = json.load(src)"
   ]
  },
  {
   "cell_type": "code",
   "execution_count": 24,
   "id": "ec78ff1d-8ce9-4f3c-b062-f0db9fc170c7",
   "metadata": {},
   "outputs": [
    {
     "name": "stderr",
     "output_type": "stream",
     "text": [
      "/Users/scott.daniel/KnowledgeEngineering/cell_type_mapper/src/cell_type_mapper/taxonomy/utils.py:253: UserWarning: This taxonomy has no mapping from leaf_node -> rows in the cell by gene matrix\n",
      "  warnings.warn(\"This taxonomy has no mapping from leaf_node -> rows \"\n"
     ]
    }
   ],
   "source": [
    "import cell_type_mapper.taxonomy.taxonomy_tree as tree_module\n",
    "taxonomy_tree = tree_module.TaxonomyTree(data=mapping['taxonomy_tree'])"
   ]
  },
  {
   "cell_type": "code",
   "execution_count": 29,
   "id": "2a6e893d-448b-440f-817c-cf9db9c7bc94",
   "metadata": {},
   "outputs": [],
   "source": [
    "level = 'CCN20230722_CLAS'\n",
    "mouse_assignments = [\n",
    "    taxonomy_tree.label_to_name(\n",
    "        level=level,\n",
    "        label=cell[level]['assignment']\n",
    "    )\n",
    "    for cell in mapping['results']\n",
    "]"
   ]
  },
  {
   "cell_type": "code",
   "execution_count": 30,
   "id": "1126f5ef-4d92-43d0-87c5-7769bb11f2e4",
   "metadata": {},
   "outputs": [
    {
     "name": "stdout",
     "output_type": "stream",
     "text": [
      "29\n"
     ]
    }
   ],
   "source": [
    "print(len(set(mouse_assignments)))"
   ]
  },
  {
   "cell_type": "code",
   "execution_count": 26,
   "id": "0f99e9f5-3d8d-4b40-a7e2-4ab7ffb22aff",
   "metadata": {},
   "outputs": [
    {
     "name": "stdout",
     "output_type": "stream",
     "text": [
      "{'08 CNU-MGE GABA', '14 HY Glut', '19 MB Glut', '31 OPC-Oligo', '30 Astro-Epen', '21 MB Dopa', '03 OB-CR Glut', '12 HY GABA', '06 CTX-CGE GABA', '26 P GABA', '04 DG-IMN Glut', '01 IT-ET Glut', '10 LSX GABA', '28 CB GABA', '13 CNU-HYa Glut', '09 CNU-LGE GABA', '20 MB GABA', '11 CNU-HYa GABA', '16 HY MM Glut', '05 OB-IMN GABA', '07 CTX-MGE GABA', '22 MB-HB Sero', '18 TH Glut', '34 Immune', '27 MY GABA', '29 CB Glut', '23 P Glut', '24 MY Glut', '33 Vascular'}\n"
     ]
    }
   ],
   "source": [
    "print(set(mouse_subclasses))"
   ]
  },
  {
   "cell_type": "code",
   "execution_count": 27,
   "id": "8f71ee71-6f71-41c6-be19-abfd3d3dc4d5",
   "metadata": {},
   "outputs": [],
   "source": [
    "import matplotlib.pyplot as plt"
   ]
  },
  {
   "cell_type": "code",
   "execution_count": 32,
   "id": "50aa4503-22c5-4d71-b52f-bf7bac2363ff",
   "metadata": {},
   "outputs": [
    {
     "data": {
      "image/png": "[encoded data removed]",
      "text/plain": [
       "<Figure size 1000x1000 with 1 Axes>"
      ]
     },
     "metadata": {},
     "output_type": "display_data"
    }
   ],
   "source": [
    "fontsize = 15\n",
    "assignment_val = sorted(set(mouse_assignments))\n",
    "assignment_to_idx = {a: ii for ii, a in enumerate(assignment_val)}\n",
    "assn_idx = [assignment_to_idx[a] for a in mouse_assignments]\n",
    "fig = plt.figure(figsize=(10, 10))\n",
    "axis = fig.add_subplot(1,1,1)\n",
    "_ = axis.hist(assn_idx, np.arange(len(assignment_val)+1))\n",
    "ticks = [ii for ii in range(len(assignment_val))]\n",
    "axis.set_xticks(ticks, assignment_val, va='top', ha='left')\n",
    "axis.tick_params(\n",
    "    which='both',\n",
    "    axis='both',\n",
    "    labelsize=fontsize\n",
    ")\n",
    "axis.tick_params(\n",
    "    axis='x',\n",
    "    labelrotation=-90.0\n",
    ")"
   ]
  },
  {
   "cell_type": "code",
   "execution_count": 34,
   "id": "624d308f-d4ac-431b-9482-327c1aacf7a1",
   "metadata": {},
   "outputs": [
    {
     "name": "stdout",
     "output_type": "stream",
     "text": [
      "n_glut: 3273 n_gaba: 1989\n"
     ]
    }
   ],
   "source": [
    "n_glut = 0\n",
    "n_gaba = 0\n",
    "for assn in mouse_assignments:\n",
    "    if 'Glut' in assn:\n",
    "        n_glut += 1\n",
    "    elif 'GABA' in assn:\n",
    "        n_gaba += 1\n",
    "print(f'n_glut: {n_glut} n_gaba: {n_gaba}')"
   ]
  },
  {
   "cell_type": "code",
   "execution_count": null,
   "id": "576bed02-4c39-4114-8c42-9e814ba78fd5",
   "metadata": {},
   "outputs": [],
   "source": []
  }
 ],
 "metadata": {
  "kernelspec": {
   "display_name": "Python 3 (ipykernel)",
   "language": "python",
   "name": "python3"
  },
  "language_info": {
   "codemirror_mode": {
    "name": "ipython",
    "version": 3
   },
   "file_extension": ".py",
   "mimetype": "text/x-python",
   "name": "python",
   "nbconvert_exporter": "python",
   "pygments_lexer": "ipython3",
   "version": "3.12.9"
  }
 },
 "nbformat": 4,
 "nbformat_minor": 5
}
