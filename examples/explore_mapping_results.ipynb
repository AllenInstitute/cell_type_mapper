{
 "cells": [
  {
   "cell_type": "markdown",
   "id": "8808301b-463d-45b3-bb21-98df7e2f23e8",
   "metadata": {},
   "source": [
    "This notebook walks through the process of creating a MapMyCells-ready h5ad file from real data, submitting it to the on-line MapMyCells tool, downloading the results, and inspecting their contents.\n",
    "\n",
    "# Set up environment\n",
    "\n",
    "#### You only need to run the first two cells if your environment has never been set up and had the necessary libraries installed\n",
    "The cell below will install the python libraries necessary to run this notebook"
   ]
  },
  {
   "cell_type": "code",
   "execution_count": null,
   "id": "2fcabbbc-9d6a-49b1-a280-2d25e125a105",
   "metadata": {},
   "outputs": [],
   "source": [
    "! pip install anndata matplotlib numpy pandas scipy umap-learn"
   ]
  },
  {
   "cell_type": "markdown",
   "id": "7f666648-01ae-49aa-86fa-ddc57cc3d688",
   "metadata": {},
   "source": [
    "After installing the libraries, you need to restart the kernel so that you can import the libraries into this notebook."
   ]
  },
  {
   "cell_type": "code",
   "execution_count": null,
   "id": "55323c07-9bec-4d5e-ad04-124b58b08fb0",
   "metadata": {},
   "outputs": [],
   "source": [
    "from IPython import get_ipython\n",
    "\n",
    "get_ipython().kernel.do_shutdown(restart=True)"
   ]
  },
  {
   "cell_type": "markdown",
   "id": "703b464e-2e3a-4a50-9b29-590b1f156878",
   "metadata": {},
   "source": [
    "#### The cell below is the first cell you need to run if you have already set up your python environment\n",
    "\n",
    "If you get an import error, run the two cells above, then re-run this cell."
   ]
  },
  {
   "cell_type": "code",
   "execution_count": null,
   "id": "3ccc9b5a-54a0-4199-9f95-5e2974a362b5",
   "metadata": {},
   "outputs": [],
   "source": [
    "import matplotlib\n",
    "import matplotlib.pyplot as plt\n",
    "\n",
    "import anndata\n",
    "import datetime\n",
    "import hashlib\n",
    "import json\n",
    "import numpy as np\n",
    "import pandas as pd\n",
    "import pathlib\n",
    "import scipy.sparse\n",
    "import subprocess\n",
    "import tempfile\n",
    "import umap"
   ]
  },
  {
   "cell_type": "markdown",
   "id": "50e11071-a3d3-4bc6-b90f-9b81efaab57d",
   "metadata": {},
   "source": [
    "Let's define (and create, if necessary) a directory in which we can store all of the data generated and consumed by this notebook."
   ]
  },
  {
   "cell_type": "code",
   "execution_count": null,
   "id": "5b97bcc3-1230-4ded-9d6e-768cb1ead9a6",
   "metadata": {},
   "outputs": [],
   "source": [
    "parent_data_dir = pathlib.Path('data')\n",
    "if not parent_data_dir.exists():\n",
    "    parent_data_dir.mkdir()\n",
    "\n",
    "assert parent_data_dir.is_dir()"
   ]
  },
  {
   "cell_type": "markdown",
   "id": "584af444-3d1d-415d-8ac8-1f9e830c81ec",
   "metadata": {},
   "source": [
    "# Downloading example data and writing it to an h5ad file\n",
    "\n",
    "The cell below downloads the data from the NEMO archive (if necessary). It will also validate that the file has the expected md5 checksum. The data in question is taken from Langlieb et al. 2023 (https://doi.org/10.1101/2023.03.06.531307)"
   ]
  },
  {
   "cell_type": "code",
   "execution_count": null,
   "id": "e21e67ab-01cd-4b2e-b825-9aaa7142f307",
   "metadata": {},
   "outputs": [],
   "source": [
    "data_url = \"https://data.nemoarchive.org/biccn/grant/u19_huang/macosko_regev/transcriptome/sncell/10X_v2/mouse/processed/counts/pBICCNsMMrMOPi70470511Bd180328.mex.tar.gz\"\n",
    "data_dst = parent_data_dir / \"downloaded_file.tar.gz\"\n",
    "\n",
    "if not data_dst.exists():\n",
    "    args = [\n",
    "        \"curl\",\n",
    "        \"-o\",\n",
    "        str(data_dst.resolve().absolute()),\n",
    "        data_url\n",
    "    ]\n",
    "\n",
    "    process = subprocess.Popen(args)\n",
    "    process.wait()\n",
    "\n",
    "assert data_dst.is_file()\n",
    "\n",
    "expected_hash = \"81ffc75a15bc40e32888bb2db9eecb52\"\n",
    "hasher = hashlib.md5()\n",
    "with open(data_dst, \"rb\") as src:\n",
    "    hasher.update(src.read())\n",
    "\n",
    "assert hasher.hexdigest() == expected_hash\n",
    "print(f\"=======FILE SUCCESSFULLLY DOWNLOADED TO {data_dst}=======\")"
   ]
  },
  {
   "cell_type": "markdown",
   "id": "434476c0-7b61-4cf3-b399-fc684b3fd34a",
   "metadata": {},
   "source": [
    "The cell below will untar the downloaded file."
   ]
  },
  {
   "cell_type": "code",
   "execution_count": null,
   "id": "581025ed-f2e0-479b-8329-d004b35b9650",
   "metadata": {},
   "outputs": [],
   "source": [
    "data_dir = parent_data_dir / 'untarred_data'\n",
    "if not data_dir.exists():\n",
    "    data_dir.mkdir()\n",
    "\n",
    "args = [\n",
    "    \"tar\",\n",
    "    \"-xvf\",\n",
    "    str(data_dst.resolve().absolute()),\n",
    "    \"--directory\",\n",
    "    str(data_dir.resolve().absolute())\n",
    "]\n",
    "process = subprocess.Popen(args)\n",
    "process.wait()\n",
    "print(f\"=======FILE SUCCESSFULLY UNTARRED TO {data_dir}=======\")"
   ]
  },
  {
   "cell_type": "markdown",
   "id": "63257981-11ab-432f-bd76-e399786791e2",
   "metadata": {},
   "source": [
    "Now let's write the data into an h5ad file that is suited for submission to MapMyCells."
   ]
  },
  {
   "cell_type": "code",
   "execution_count": null,
   "id": "fb03ec2c-e754-4d60-b6e9-60c6fe410923",
   "metadata": {},
   "outputs": [],
   "source": [
    "# only use wells with this many non-zero gene counts (or more)\n",
    "min_genes = 100  \n",
    "\n",
    "# define a path to the h5ad file we will create (delete it if it already exists)\n",
    "h5ad_path = parent_data_dir / f\"example_h5ad_min_genes_{min_genes:04}.h5ad\"\n",
    "\n",
    "if h5ad_path.exists():\n",
    "    h5ad_path.unlink()\n",
    "\n",
    "# find the directory into which the raw data was untarred\n",
    "actual_data_dir = [n for n in data_dir.iterdir() if n.is_dir()][0]\n",
    "print(f\"======DATA FOUND IN {actual_data_dir}=======\")"
   ]
  },
  {
   "cell_type": "markdown",
   "id": "802a6452-cd5f-46c5-8cbd-a5195d725b40",
   "metadata": {},
   "source": [
    "## Create the var DataFrame\n",
    "\n",
    "h5ad files store metadata about the genes in the cell-by-gene matrix in a DataFrame referred to as `var`. Each row in this DataFrame represents a gene (column) in the final cell-by-gene matrix. All that MapMyCells requires is that the index of this DataFrame contain the unique identifiers of each gene. Ideally, these identifiers would be EnsemblID, but MapMyCells can handle some common gene symbols. In order to exercise the full functionality of MapMyCells, we will make our lives difficult by using gene symbols as the index in our `var` DataFrame, even though the data we downloaded does contain EnsemblIDs."
   ]
  },
  {
   "cell_type": "code",
   "execution_count": null,
   "id": "c483370d-716e-4c08-a424-08064e88e6c4",
   "metadata": {},
   "outputs": [],
   "source": [
    "gene_file_path = actual_data_dir / 'genes.tsv'\n",
    "assert gene_file_path.is_file()\n",
    "\n",
    "# Assemble a list of gene identifiers to serve as the index of 'var' in the h5ad file.\n",
    "# We are going to make things more difficult on ourselves, identifying the genes\n",
    "# by their symbols, rather than their EnsemblIDs (which are available in the .tsv\n",
    "# file). MapMyCells prefers to work in EnsemblID, but can map common gene symbols\n",
    "# to EnsemblID. We are using the gene symbols here to showcase that functionality.\n",
    "#\n",
    "# In \"actual\" production, it is best practice to identify all genes using\n",
    "# EnsemblID.\n",
    "\n",
    "gene_symbols = []\n",
    "gene_identifiers = []\n",
    "symbol_to_ct = dict()\n",
    "\n",
    "with open(gene_file_path, 'r') as src:\n",
    "    for line in src:\n",
    "        line = line.split()\n",
    "        identifier = line[0]\n",
    "        symbol = line[1]\n",
    "        gene_identifiers.append(identifier)\n",
    "        gene_symbols.append(symbol)\n",
    "        if symbol not in symbol_to_ct:\n",
    "            symbol_to_ct[symbol] = 0\n",
    "        symbol_to_ct[symbol] += 1\n",
    "\n",
    "# in cases where a symbol maps to more than one EnsemblID,\n",
    "# just use the EnsemblID\n",
    "gene_list = []\n",
    "for symbol, identifier in zip(gene_symbols, gene_identifiers):\n",
    "    if symbol_to_ct[symbol] == 1:\n",
    "        gene_list.append(symbol)\n",
    "    else:\n",
    "        gene_list.append(identifier)\n",
    "\n",
    "assert len(set(gene_list)) == len(gene_list)\n",
    "\n",
    "print(f\"=======READ GENES FROM {gene_file_path}=======\")\n",
    "\n",
    "var = pd.DataFrame([{'gene_id': g} for g in gene_list]).set_index('gene_id')"
   ]
  },
  {
   "cell_type": "markdown",
   "id": "7c8ea93a-2141-4224-9cc7-9d47225d000a",
   "metadata": {},
   "source": [
    "## Create the obs DataFrame\n",
    "\n",
    "h5ad files contain metadata about the cells in the cell-by-gene matrix in a DataFrame referred to as `obs`. Each row in this DataFrame represents a cell (row) in the final cell-by-gene matrix. Because we only want to include wells with a significant number of non-zero genes, we will scan through the raw cell-by-gene data and only select wells with at least `min_genes` non-zero genes to include in our `obs` DataFrame."
   ]
  },
  {
   "cell_type": "code",
   "execution_count": null,
   "id": "1c67a781-6b22-41e1-8b17-0ab265063b75",
   "metadata": {},
   "outputs": [],
   "source": [
    "barcode_file_path = actual_data_dir / 'barcodes.tsv'\n",
    "assert barcode_file_path.is_file()\n",
    "with open(barcode_file_path, 'r') as src:\n",
    "    cell_list = [c.strip() for c in src]\n",
    "print(f\"=======READ CELL BARCODES FROM {barcode_file_path}=======\")\n",
    "\n",
    "# Identify the wells that pass our cut on min_genes.\n",
    "\n",
    "matrix_file_path = actual_data_dir / 'matrix.mtx'\n",
    "\n",
    "with open(matrix_file_path, 'r') as src:\n",
    "    src.readline()\n",
    "    src.readline()\n",
    "    src.readline()\n",
    "    cell_idx = np.array(\n",
    "        [int(r.strip().split()[1])-1 for r in src])\n",
    "\n",
    "unq_idx, ct = np.unique(cell_idx, return_counts=True)\n",
    "valid_cell_idx = np.sort(unq_idx[(ct>=min_genes)])\n",
    "cell_list = [cell_list[ii] for ii in valid_cell_idx]\n",
    "\n",
    "# dict mapping old cell idx to new cell idx\n",
    "cell_idx_transform = {old:new for new, old in enumerate(valid_cell_idx)}\n",
    "\n",
    "valid_cells = set(valid_cell_idx)\n",
    "\n",
    "print(f\"======={len(valid_cells)} CELLS PASSED gene ct>={min_genes}=======\")\n",
    "\n",
    "obs = pd.DataFrame([{'barcode': c} for c in cell_list]).set_index('barcode')\n"
   ]
  },
  {
   "cell_type": "markdown",
   "id": "dbb9f7da-4b50-4151-a2ee-52ca83ae9108",
   "metadata": {},
   "source": [
    "## Create the cell-by-gene matrix and write out the h5ad file\n",
    "\n",
    "Now we will read in the actual cell-by-gene matrix, store it one of `scipy`'s sparse matrix formats, and write the data out to an h5ad file using the `anndata` library."
   ]
  },
  {
   "cell_type": "code",
   "execution_count": null,
   "id": "23542141-2d50-4b6c-898f-868393b390af",
   "metadata": {},
   "outputs": [],
   "source": [
    "\n",
    "# Put together the cell-by-gene matrix\n",
    "\n",
    "row_idx = []\n",
    "col_idx = []\n",
    "counts = []\n",
    "with open(matrix_file_path, 'r') as src:\n",
    "    src.readline()\n",
    "    src.readline()\n",
    "    src.readline()\n",
    "    for line in src:\n",
    "        params = line.strip().split()\n",
    "        this_gene = int(params[0])-1\n",
    "        this_cell = int(params[1])-1\n",
    "        this_ct = int(params[2])\n",
    "        if this_cell in valid_cells:\n",
    "            row_idx.append(cell_idx_transform[this_cell])\n",
    "            col_idx.append(this_gene)\n",
    "            counts.append(this_ct)\n",
    "\n",
    "print(f\"=======READ MATRIX FROM {matrix_file_path}=======\")\n",
    "\n",
    "X_data = scipy.sparse.csr_matrix(\n",
    "    (\n",
    "     counts,\n",
    "     (row_idx, col_idx)\n",
    "    ),\n",
    "    shape=(len(obs), len(var))\n",
    ")\n",
    "\n",
    "a_data = anndata.AnnData(\n",
    "    X=X_data,\n",
    "    obs=obs,\n",
    "    var=var\n",
    ")\n",
    "\n",
    "a_data.write_h5ad(h5ad_path, compression='gzip', compression_opts=4)\n",
    "\n",
    "print(f\"\\n=======WROTE h5ad FILE TO {h5ad_path.resolve().absolute()}=======\")\n",
    "\n",
    "timestamp = datetime.datetime.now().isoformat().split('T')[0]\n",
    "salt = 0\n",
    "mapping_dir = parent_data_dir / 'mapping'\n",
    "if not mapping_dir.exists():\n",
    "    mapping_dir.mkdir(exist_ok=False)\n",
    "\n",
    "assert mapping_dir.is_dir()\n",
    "\n",
    "print(\n",
    "f\"=======PLEASE SUBMIT h5ad FILE TO MapMyCells AT=======\\n\"\n",
    "\"https://knowledge.brain-map.org/mapmycells/process/\\n\"\n",
    "f\"=======AND DOWNLOAD RESULTS TO {mapping_dir.resolve().absolute()}=======\\n\"\n",
    "\"=======BE SURE TO SELECT '10x Whole Mouse Brain` TAXONOMY AND 'Hierarchical Mapping'=======\"\n",
    ")\n"
   ]
  },
  {
   "cell_type": "markdown",
   "id": "d9509e1b-c389-4551-b0b2-f0c2dcdf4470",
   "metadata": {},
   "source": [
    "# Aside: look at the h5ad file we just created\n",
    "\n",
    "Let's read the h5ad file we just created with `anndata`, so that we can see how it comports with what MapMyCells expects."
   ]
  },
  {
   "cell_type": "code",
   "execution_count": null,
   "id": "664bbc6b-ab92-4a2e-84cb-f8e2a271acc1",
   "metadata": {},
   "outputs": [],
   "source": [
    "raw_data = anndata.read_h5ad(h5ad_path, backed='r')"
   ]
  },
  {
   "cell_type": "markdown",
   "id": "c82abd2b-ab46-48d1-8d3b-6f887375163b",
   "metadata": {},
   "source": [
    "Note that the `obs` object of the unlabeled h5ad file is indexed on the unique identifiers of each cell."
   ]
  },
  {
   "cell_type": "code",
   "execution_count": null,
   "id": "be8e91ac-52da-4a12-9b43-d58672f3a336",
   "metadata": {},
   "outputs": [],
   "source": [
    "raw_data.obs"
   ]
  },
  {
   "cell_type": "markdown",
   "id": "b6faf1bf-9b6b-4426-8e5c-500b6e126b40",
   "metadata": {},
   "source": [
    "The `var` object is indexed on the unique identifiers of each gene.\n",
    "\n",
    "**Note:** MapMyCells prefers to work in EnsemblID. However, it does contain code to translate from common gene symbols to EnsemblIDs if you cannot directly provide the EnsemblIDs yourself."
   ]
  },
  {
   "cell_type": "code",
   "execution_count": null,
   "id": "41051b65-49ba-40bf-9d10-e666f72e1167",
   "metadata": {},
   "outputs": [],
   "source": [
    "raw_data.var"
   ]
  },
  {
   "cell_type": "markdown",
   "id": "643f29c0-1fdd-4d94-b337-6dfa65a75174",
   "metadata": {},
   "source": [
    "The `X` element contains the **raw** (i.e. not the log-normalized) counts of each gene measured in each cell."
   ]
  },
  {
   "cell_type": "code",
   "execution_count": null,
   "id": "d6402d86-4363-487f-a647-7e375ff5a4e3",
   "metadata": {},
   "outputs": [],
   "source": [
    "raw_data.X"
   ]
  },
  {
   "cell_type": "markdown",
   "id": "a8a0aff2-647d-48ac-a0be-2c772f7041b5",
   "metadata": {},
   "source": [
    "# MapMyCells results\n",
    "\n",
    "**Note:** If you have not already, submit the h5ad file created above (see `h5ad_path`) for processing at\n",
    "\n",
    "https://knowledge.brain-map.org/mapmycells/process/\n",
    "\n",
    "and then download the results to `mapping_dir` (see below)."
   ]
  },
  {
   "cell_type": "code",
   "execution_count": null,
   "id": "75f77281-2cae-45cc-ade6-3b6e84a6ab71",
   "metadata": {},
   "outputs": [],
   "source": [
    "assert mapping_dir.is_dir()\n",
    "str(mapping_dir.resolve().absolute())"
   ]
  },
  {
   "cell_type": "markdown",
   "id": "80ea231c-0189-49ca-a1aa-abc2804fc263",
   "metadata": {},
   "source": [
    "MapMyCells returns all of its outputs in a single .zip file. To usefully analyze it, you must unzip the file into its constituent parts."
   ]
  },
  {
   "cell_type": "code",
   "execution_count": null,
   "id": "957cf770-e864-4d53-9d33-3e6462795ebc",
   "metadata": {},
   "outputs": [],
   "source": [
    "zip_file_path_list = [n for n in mapping_dir.rglob(f'**/{h5ad_path.stem}*.zip')]\n",
    "if len(zip_file_path_list) == 0:\n",
    "    raise RuntimeError(\n",
    "        f\"Found no zip files in {mapping_dir} corresponding to h5ad file {h5ad_path}\"\n",
    "    )\n",
    "\n",
    "zip_file_path_list.sort()\n",
    "zip_file_path = zip_file_path_list[-1]\n",
    "zip_file_stem = zip_file_path.stem\n",
    "print(f'=======UNZIPPING {zip_file_path}=======\\n')\n",
    "print(\"USING COMMAND\")\n",
    "print(' '.join(args))\n",
    "print('')\n",
    "args = [\n",
    "    \"tar\",\n",
    "    \"-xvf\",\n",
    "    str(zip_file_path.resolve().absolute()),\n",
    "    \"--directory\",\n",
    "    str(mapping_dir.resolve().absolute())\n",
    "]\n",
    "\n",
    "process = subprocess.Popen(args)\n",
    "process.wait()\n",
    "\n",
    "# the path to the CSV file containingin mapping results\n",
    "csv_path = mapping_dir / f\"{zip_file_stem}.csv\"\n",
    "assert csv_path.is_file()\n",
    "\n",
    "# the path to the JSON file containing mapping results\n",
    "json_path = mapping_dir / f\"{zip_file_stem}.json\"\n",
    "assert json_path.is_file()\n"
   ]
  },
  {
   "cell_type": "markdown",
   "id": "c420eafc-886a-451f-980d-82293b0fa6c0",
   "metadata": {},
   "source": [
    "## CSV mapping results\n",
    "\n",
    "Let us now look at the contents of the CSV file returned by MapMyCells.\n",
    "\n",
    "The first 3-4 (depending on the chosen taxonomy and algorithm) lines contain metadata describing the MapMyCells run. These are flagged with a `#`."
   ]
  },
  {
   "cell_type": "code",
   "execution_count": null,
   "id": "8fa3ea09-e8e0-4a27-b00a-37ae8f1423a6",
   "metadata": {},
   "outputs": [],
   "source": [
    "print(f\"=======READING LINES FROM {csv_path}=======\\n\")\n",
    "with open(csv_path, 'r') as src:\n",
    "    for line in src.readlines()[:6]:\n",
    "        print(line)"
   ]
  },
  {
   "cell_type": "markdown",
   "id": "109bd7e7-bed6-43aa-9162-7b10a26fff46",
   "metadata": {},
   "source": [
    "You can read the CSV file in with `pandas`. Be sure to tell pandas to ignore lines that begin with a `#`."
   ]
  },
  {
   "cell_type": "code",
   "execution_count": null,
   "id": "6c00ddb3-5363-4f1c-93b4-5ecaab8018d3",
   "metadata": {},
   "outputs": [],
   "source": [
    "csv_results = pd.read_csv(csv_path, comment='#')\n",
    "csv_results"
   ]
  },
  {
   "cell_type": "markdown",
   "id": "a87d93da-182a-453c-beaa-f3e15e7661bb",
   "metadata": {},
   "source": [
    "Each row in the resulting DataFrame corresponds to a cell. The columns list the cell's ID, the machine- and human-readable names of the cell types the cell was assigned to at each level, as well as the `bootstrapping_probability` for the assignment.\n",
    "\n",
    "`bootstrapping_probability` is a quality metric for the mapping. Recall that hierarchical mapping maps the cell 100 times, using a random subset of marker genes for each iteration, and assigning the cell to the cell type that is most correlated with the cell in the plurality of those 100 iterations. `bootstrapping_probability` is the fraction of the 100 iterations that chose the final assignment."
   ]
  },
  {
   "cell_type": "code",
   "execution_count": null,
   "id": "c1b32a3e-bd68-4812-bb28-e15a4a2a286c",
   "metadata": {},
   "outputs": [],
   "source": [
    "list(csv_results.columns)"
   ]
  },
  {
   "cell_type": "markdown",
   "id": "b2231f98-2abf-44e6-b0df-f738bc3f7b56",
   "metadata": {},
   "source": [
    "## JSON mapping results\n",
    "\n",
    "The JSON results file contains the same mapping results as the CSV file, but in greater detail. It also contains metadata about the specific MapMyCells run, including details of the cell type taxonomy to which your data was mapped."
   ]
  },
  {
   "cell_type": "code",
   "execution_count": null,
   "id": "11a07951-38a6-43a4-945f-56e557a1d99c",
   "metadata": {},
   "outputs": [],
   "source": [
    "print(f\"=======READING {json_path}=======\\n\")\n",
    "with open(json_path, 'rb') as src:\n",
    "    json_results = json.load(src)\n",
    "json_results.keys()"
   ]
  },
  {
   "cell_type": "markdown",
   "id": "d5b852ef-8437-445b-90f2-e4c02f68bbdb",
   "metadata": {},
   "source": [
    "The `json_results` object we just loaded is a dict. The actual cell type mapping results are stored under the `results` key. Before we look at those, we will discuss the metadata stored alongside it. Specifically, we will discuss\n",
    "- `gene_identifier_mapping`, which stores how gene symbols (if any) in the unlabeled data were translated to EnsemblIDs\n",
    "- `taxonomy_tree`, which stores the cell type taxonomy to which this data was mapped\n",
    "- `marker_genes` which tells you which specific marker genes were used in mapping your data.\n",
    "\n",
    "`metadata`, `config`, and `log` store details about the actual implementation of MapMyCells."
   ]
  },
  {
   "cell_type": "markdown",
   "id": "7b9dd534-9e71-40ad-b305-f2e8ae425645",
   "metadata": {},
   "source": [
    "### Gene symbol to gene identifier mapping\n",
    "\n",
    "As mentioned above, if your unlabeled data identifies genes using gene symbols rather than EnsemblIDs, MapMyCells will attempt to translate your gene symbols into EnsemblIDs using lookup tables hard-coded into the MapMyCells codebase. The mapping that ends up being performed is stored under the `gene_identifier_mapping` key of the JSON results file. Any gene symbol that MapMyCells could not find in its lookeup table gets mapped to a nonsense identifier beginning with `unmapped_`\n",
    "\n",
    "For examp.e, the gene sybol `0610012G03Rik` was mapped to"
   ]
  },
  {
   "cell_type": "code",
   "execution_count": null,
   "id": "f979fc79-f6d7-492f-ba1d-d8278f164d3c",
   "metadata": {},
   "outputs": [],
   "source": [
    "json_results['gene_identifier_mapping']['0610012G03Rik']"
   ]
  },
  {
   "cell_type": "markdown",
   "id": "b839751d-371b-42b4-914f-e995b2c10bcf",
   "metadata": {},
   "source": [
    "An example of a gene symbol that MapMyCells could not map to an EnsemblID is"
   ]
  },
  {
   "cell_type": "code",
   "execution_count": null,
   "id": "eb74b661-09d6-4309-995d-25bc3aedc2ab",
   "metadata": {},
   "outputs": [],
   "source": [
    "json_results['gene_identifier_mapping']['0610007P14Rik']"
   ]
  },
  {
   "cell_type": "markdown",
   "id": "c317973c-6829-408f-9382-4abe37fb08a5",
   "metadata": {},
   "source": [
    "### Cell type taxonomy tree\n",
    "\n",
    "The actual cell type taxonomy tree to which your data was mapped is also stored in the JSON results file."
   ]
  },
  {
   "cell_type": "code",
   "execution_count": null,
   "id": "265bb137-2b16-4349-9cfa-292443c0a087",
   "metadata": {},
   "outputs": [],
   "source": [
    "taxonomy_tree = json_results['taxonomy_tree']"
   ]
  },
  {
   "cell_type": "code",
   "execution_count": null,
   "id": "5530d24a-01ee-4e71-be0f-201736cc9c1b",
   "metadata": {},
   "outputs": [],
   "source": [
    "taxonomy_tree.keys()"
   ]
  },
  {
   "cell_type": "markdown",
   "id": "3e1f354e-8e5d-4c59-80b9-a7abaa808968",
   "metadata": {},
   "source": [
    "As you can see, `json_results['taxonomy_tree']` is itself a dict. The key-value pairs stored in this dict help you answer different questions about the cell type taxonomy, which we will explicate below."
   ]
  },
  {
   "cell_type": "markdown",
   "id": "6008e097-b453-4979-8788-e0755d469ebc",
   "metadata": {},
   "source": [
    "#### What levels are in the cell type taxonomy tree?"
   ]
  },
  {
   "cell_type": "markdown",
   "id": "4c346507-caa2-4a39-9eb3-c9bf1b17f4ab",
   "metadata": {},
   "source": [
    "`hierarchy` lists the levels of the cell type taxonomy from most gross to most fine."
   ]
  },
  {
   "cell_type": "code",
   "execution_count": null,
   "id": "fe3e1c56-d025-4c3d-a6ea-c61ada44346a",
   "metadata": {},
   "outputs": [],
   "source": [
    "taxonomy_tree['hierarchy']"
   ]
  },
  {
   "cell_type": "markdown",
   "id": "79605dcf-2a2c-4e9c-a676-5df26e127597",
   "metadata": {},
   "source": [
    "So: the highest level of this taxonomy is `CCN20230722_CLAS`. Cell types at this level are are subdivided into cell types of level `CCN20230722_SUBC`, which are subdivided into cell types of level `CCN20230722_SUPT`, which are finally subdivided into cell types of level `CCN20230722_CLUS`.\n",
    "\n",
    "These are the machine-readable, universally unique identifiers assigned to the levels in this cell type taxonomy. The levels also have human-readable names. The mapping between machine-readable and human-readable names can be found in `taxonomy_tree['hierarchy_mapper']`"
   ]
  },
  {
   "cell_type": "code",
   "execution_count": null,
   "id": "efc7bf9c-2f8f-4cc6-baa5-fe7898a832a6",
   "metadata": {},
   "outputs": [],
   "source": [
    "taxonomy_tree['hierarchy_mapper']"
   ]
  },
  {
   "cell_type": "markdown",
   "id": "a78950ec-5282-488e-bbc1-99e35a8ff2db",
   "metadata": {},
   "source": [
    "#### What are the cell type taxons in the taxonomy tree?\n",
    "\n",
    "The individual cell types in the taxonomy are also represented by machine-readable names in the tree. There is a dict in the `taxonomy_tree` that translates these to their human-readable name. For instance, the human-readable name of the cell type class `CCN20230722_CLAS/CS20230722_CLAS_10` is"
   ]
  },
  {
   "cell_type": "code",
   "execution_count": null,
   "id": "9b8de333-0e47-45dd-ab23-df317d90a982",
   "metadata": {},
   "outputs": [],
   "source": [
    "taxonomy_tree['name_mapper']['CCN20230722_CLAS']['CS20230722_CLAS_10']['name']"
   ]
  },
  {
   "cell_type": "markdown",
   "id": "edd6d4ca-36d7-4cab-b1f1-e9733eb752fc",
   "metadata": {},
   "source": [
    "and the human readable name of the supertype `CCN20230722_SUPT/CS20230722_SUPT_0122` is"
   ]
  },
  {
   "cell_type": "code",
   "execution_count": null,
   "id": "02b5bc8d-8d71-4261-9312-5293023a91a2",
   "metadata": {},
   "outputs": [],
   "source": [
    "taxonomy_tree['name_mapper']['CCN20230722_SUPT']['CS20230722_SUPT_0122']['name']"
   ]
  },
  {
   "cell_type": "markdown",
   "id": "f266c424-ac85-45cf-8c29-0f07234868cd",
   "metadata": {},
   "source": [
    "#### What are the parent-child relationships in the cell type taxonomy tree?\n",
    "\n",
    "Now that we can translate between machine-readable and human-readable names in the cell type taxonomy, we can ask about the actual relationships between cell types in the taxonomy tree.\n",
    "\n",
    "You will see that the machine-readable names of the cell type levels are also keys in the `taxonomy_tree`. These keys lead you to dicts which map the machine-readable names of the cell types to lists of their children. For instance, the children of the cell type class `CCN20230722_CLAS/CS20230722_CLAS_02` are:"
   ]
  },
  {
   "cell_type": "code",
   "execution_count": null,
   "id": "a3f0c669-58e5-4876-8544-9d71ae9b8e1d",
   "metadata": {},
   "outputs": [],
   "source": [
    "taxonomy_tree['CCN20230722_CLAS']['CS20230722_CLAS_02']"
   ]
  },
  {
   "cell_type": "markdown",
   "id": "85e04215-65e4-49f9-b3c7-a7f01af990af",
   "metadata": {},
   "source": [
    "Which we can represent in human-readable form using"
   ]
  },
  {
   "cell_type": "code",
   "execution_count": null,
   "id": "1889b4fc-ce72-40b8-828a-b166a94a88af",
   "metadata": {},
   "outputs": [],
   "source": [
    "list_of_names = [\n",
    "    taxonomy_tree['name_mapper']['CCN20230722_SUBC'][label]['name']\n",
    "    for label in taxonomy_tree['CCN20230722_CLAS']['CS20230722_CLAS_02']\n",
    "]\n",
    "list_of_names"
   ]
  },
  {
   "cell_type": "markdown",
   "id": "61da6f76-f1d4-4fd3-9d0a-6832e6dee817",
   "metadata": {},
   "source": [
    "The children of the subclass `CCN20230722_SUBC/CS20230722_SUBC_030` are"
   ]
  },
  {
   "cell_type": "code",
   "execution_count": null,
   "id": "1db53509-8001-4bf8-ae76-9f5c3c4e0593",
   "metadata": {},
   "outputs": [],
   "source": [
    "taxonomy_tree['CCN20230722_SUBC']['CS20230722_SUBC_030']"
   ]
  },
  {
   "cell_type": "markdown",
   "id": "4aa0fb86-02f6-4c23-84fe-69b2365e9d39",
   "metadata": {},
   "source": [
    "or"
   ]
  },
  {
   "cell_type": "code",
   "execution_count": null,
   "id": "7a82087a-8ceb-4f5f-b620-d3c2f99f2e66",
   "metadata": {},
   "outputs": [],
   "source": [
    "list_of_names = [\n",
    "    taxonomy_tree['name_mapper']['CCN20230722_SUPT'][label]['name']\n",
    "    for label in taxonomy_tree['CCN20230722_SUBC']['CS20230722_SUBC_030']\n",
    "]\n",
    "list_of_names"
   ]
  },
  {
   "cell_type": "markdown",
   "id": "05f8dbb7-bb9d-4b0c-a81a-6e6cd2d0581e",
   "metadata": {},
   "source": [
    "et cetera..."
   ]
  },
  {
   "cell_type": "markdown",
   "id": "50a53c74-0d44-4981-b17f-b3030ae5bc07",
   "metadata": {},
   "source": [
    "### Marker genes\n",
    "\n",
    "MapMyCells uses a specific set of marker genes to make its cell type assignments. Marker genes are associated with a specific cell type and represent genes which are good at discriminating between that cell type's children. To be explicit, the marker genes associated with `CCN20230722_CLAS/CS20230722_CLAS_02` are **not** genes that are good at identifying `CCN20230722_CLAS/CS20230722_CLAS_02`, they are genes that are good at determining which child of `CCN20230722_CLAS/CS20230722_CLAS_02` a cell belongs to (assuming the cell has been determined to belong to `CCN20230722_CLAS/CS20230722_CLAS_02`).\n",
    "\n",
    "A specific MapMyCells run takes as input a predetermined lookup table mapping cell types to marker genes (this is done behind-the-scenes in a way the user cannot see). However, if a user's data does not contain all of the marker genes MapMyCells expects, MapMyCells will truncate the marker gene set to only include marker genes in the user's dataset (and, in extreme cases, use a parent cell type's marker genes to supplement a child type's marker genes if there are **very** few marker genes present).\n",
    "\n",
    "The marker genes actually used in **this** specific MapMyCells run are stored under the `marker_genes` key in our `json_results` object. `marker_genes` is a dict keyed on '{level}/{label}`, giving lists of the marker genes used.\n",
    "\n",
    "For instance, the marker genes used at the root level of the tree (i.e. the marker genes used to select a cell type class) are (we will only show the first 10... there are ~ 500 of them)"
   ]
  },
  {
   "cell_type": "code",
   "execution_count": null,
   "id": "2fd63192-9d3e-4c92-a5e8-bf868f208da0",
   "metadata": {},
   "outputs": [],
   "source": [
    "json_results['marker_genes']['None'][:10]"
   ]
  },
  {
   "cell_type": "markdown",
   "id": "9cbe9fd6-e689-4db2-9f36-650d6752aa7d",
   "metadata": {},
   "source": [
    "while the marker genes used to select among the children of `CCN20230722_SUBC/CS20230722_SUBC_030` are"
   ]
  },
  {
   "cell_type": "code",
   "execution_count": null,
   "id": "1aff863c-ee0e-4a1f-8fed-aa6b65e46c81",
   "metadata": {},
   "outputs": [],
   "source": [
    "json_results['marker_genes']['CCN20230722_SUBC/CS20230722_SUBC_030'][:10]"
   ]
  },
  {
   "cell_type": "markdown",
   "id": "ff2819f8-6706-471e-85e7-fa579f349c24",
   "metadata": {},
   "source": [
    "### Actual cell type mapping results\n",
    "\n",
    "Now we are ready to discuss the actual mapping of the unlabeled cells. The mapping results are stored under the `results` key in our `json_results` object, which maps to a list of dicts, each of which represents a cell from the unlabeled dataset.\n",
    "\n",
    "The dict representing each cell is keyed on the machine-readable labels for levels in the cell type taxonomy (in our case `CCN20230722_CLAS`, `CCN20230722_SUBC`, `CCN20230722_SUPT`, `CCN20230722_CLUS`). Under each of these keys you will find the same data as in the CSV file. Additionally, you will find:\n",
    "\n",
    "- `avg_correlation`, the correlation coefficient between the cell and the chosen cell type *averaged over the iterations that selected that cell type.*\n",
    "- `runner_up_assignment`, `runner_up_correlation`, `runner_up_probability`, lists indicating the labels, `avg_correlation`, and `bootstrapping_probability` for the five cell types that got the next highest number of \"votes\" among the 100 mapping iterations.\n",
    "- `aggregate_probability`, the running product of `bootstrapping_probability` from most gross to most fine level in the taxonomy.\n",
    "- `directly_assigned` a boolean indicating whether or not the class was chosen directly (in the Whole Mouse Brain taxonomy, supertype is not directly assigned; the assignment goes directly from subclass to cluster and supertype is inferred from the chosen cluster)\n",
    "\n",
    "Below we show an example of one cell's mapping represented in this form (**note:** the cell's barcode is stored under the `cell_id` key). We are intentionally displaying a cell with low `avg_correlation` values so that we can see how the `runner_up_*` data is stored."
   ]
  },
  {
   "cell_type": "code",
   "execution_count": null,
   "id": "91f095a9-4d09-4115-9624-7d784b0ee432",
   "metadata": {},
   "outputs": [],
   "source": [
    "print(json.dumps(json_results['results'][1000], indent=2))"
   ]
  },
  {
   "cell_type": "markdown",
   "id": "2ad7bf46-b951-42e0-b28d-b9f9b5e0e97c",
   "metadata": {},
   "source": [
    "## QC plot\n",
    "\n",
    "Now let's do a quick QC assessment of our mapping. Let's plot `avg_correlation` and `bootstrapping_probability` for a cell's class assignment (the highest level in the Whole Mouse Brain taxonomy) against the number of genes measured with non-zero counts in that cell."
   ]
  },
  {
   "cell_type": "code",
   "execution_count": null,
   "id": "550f6928-f761-4356-9021-05df5b129463",
   "metadata": {},
   "outputs": [],
   "source": [
    "level = 'CCN20230722_CLAS'\n",
    "\n",
    "cell_barcodes = raw_data.obs.index.values\n",
    "\n",
    "# convert cell type mapping into a dict keyed on each cell's barcode\n",
    "mapping_result = {c['cell_id']: c for c in json_results['results']}\n",
    "\n",
    "# get an array of how many genes were measured with more than 0 counts in each cell\n",
    "n_genes = (raw_data.X[()].toarray()>0).sum(axis=1)\n",
    "\n",
    "# assemble arrays of the two QC metrics\n",
    "avg_corr = np.array([mapping_result[b][level]['avg_correlation'] for b in cell_barcodes])\n",
    "bootstrapping_prob = np.array([mapping_result[b][level]['bootstrapping_probability'] for b in cell_barcodes])\n",
    "\n",
    "fig = plt.figure(figsize=(15,5))\n",
    "corr_axis = fig.add_subplot(1,3,1)\n",
    "prob_axis = fig.add_subplot(1,3,2)\n",
    "corr_v_prob_axis = fig.add_subplot(1,3,3)\n",
    "\n",
    "level_name = taxonomy_tree['hierarchy_mapper'][level]\n",
    "\n",
    "corr_axis.set_title(level_name)\n",
    "corr_axis.scatter(n_genes, avg_corr, s=1)\n",
    "corr_axis.set_xlabel('N non-zero genes')\n",
    "corr_axis.set_ylabel('average correlation')\n",
    "corr_axis.set_xscale('log')\n",
    "\n",
    "prob_axis.scatter(n_genes, bootstrapping_prob, s=1)\n",
    "prob_axis.set_xlabel('N non-zero genes')\n",
    "prob_axis.set_ylabel('bootstrapping probability')\n",
    "prob_axis.set_xscale('log')\n",
    "\n",
    "corr_v_prob_axis.scatter(avg_corr, bootstrapping_prob, s=1)\n",
    "corr_v_prob_axis.set_xlabel('average correlation')\n",
    "corr_v_prob_axis.set_ylabel('bootstrapping probability')"
   ]
  },
  {
   "cell_type": "markdown",
   "id": "2f113ecd-682b-4e15-9178-ce00fd737869",
   "metadata": {},
   "source": [
    "Here we see a strong correlation between the number of non-zero genes measured for a cell and its `avg_correlation` score. This makes sense. If not many genes were measured as expressing in a given cell, it will be harder to find a good fit for that cell in our cell type taxonomy. The correlation between non-zero genes and `bootstrapping_probability` is less strong, though we do see that, while a low number of non-zero genes does not necessarily imply a low `bootstrapping_probability`, a low `bootstrapping_probability` does seem to imply a low number of non-zero genes."
   ]
  },
  {
   "cell_type": "markdown",
   "id": "a838f718-abe3-462b-8aee-f1a5e561fc79",
   "metadata": {},
   "source": [
    "## UMAP plot\n",
    "\n",
    "Below we demonstrate how to generate a UMAP of the unlabeled data and plot it, coloring the points according to the cell types assigned by MapMyCells.\n",
    "\n",
    "First, define a helper function to generate and plot the embedding."
   ]
  },
  {
   "cell_type": "code",
   "execution_count": null,
   "id": "c6051505-2a58-413e-b211-84eeb969b927",
   "metadata": {},
   "outputs": [],
   "source": [
    "def plot_embedding(\n",
    "        barcode_to_label,\n",
    "        label_order,\n",
    "        fontsize=15):\n",
    "    \"\"\"\n",
    "    Generate and plot a UMAP embedding of the raw data.\n",
    "\n",
    "    Parameters\n",
    "    ----------\n",
    "    barcode_to_label:\n",
    "        A dict mapping cell barcodes to labels (only includes\n",
    "        cells that we want included in the embedding)\n",
    "    label_order:\n",
    "        order in which we want labels to appear on the color map.\n",
    "    fontsize:\n",
    "        size of font to be used in legend\n",
    "\n",
    "    Returns\n",
    "    -------\n",
    "    None\n",
    "        generates and displays the plot of the embedding\n",
    "    \"\"\"\n",
    "\n",
    "    level = 'CCN20230722_CLAS'\n",
    "    reducer = umap.UMAP()\n",
    "\n",
    "    _barcodes = raw_data.obs.index.values\n",
    "    data = raw_data.X[()].toarray()\n",
    "\n",
    "    filter_mask = np.zeros(data.shape[0], dtype=bool)\n",
    "    for ii, b in enumerate(_barcodes):\n",
    "        if b in barcode_to_label:\n",
    "            filter_mask[ii] = True\n",
    "\n",
    "    if not hasattr(plot_embedding, 'filter_mask'):\n",
    "        plot_embedding.embedding =  None\n",
    "\n",
    "    run_embedding = False\n",
    "    if plot_embedding.embedding is None:\n",
    "        run_embedding = True\n",
    "    elif not np.array_equal(filter_mask, plot_embedding.filter_mask):\n",
    "        run_embedding = True\n",
    "\n",
    "    if run_embedding:\n",
    "        plot_embedding.embedding = reducer.fit_transform(data[filter_mask, :])\n",
    "        plot_embedding.filter_mask = filter_mask\n",
    "\n",
    "    embedding = plot_embedding.embedding\n",
    "\n",
    "    label_to_idx = {label:ii for ii, label in enumerate(label_order)}\n",
    "    \n",
    "    assignments = np.array(\n",
    "        [\n",
    "            label_to_idx[\n",
    "                barcode_to_label[b]\n",
    "            ] for b in _barcodes[filter_mask]\n",
    "        ]\n",
    "    )\n",
    "\n",
    "    ticks = [ii for ii in range(len(label_order))]\n",
    "\n",
    "    fig = plt.figure(figsize=(10,10))\n",
    "    axis = fig.add_subplot(1,1,1)\n",
    "    for label in label_order:\n",
    "        cell_mask = (assignments==label_to_idx[label])\n",
    "        axis.scatter(embedding[cell_mask, 0], embedding[cell_mask, 1], label=label, s=10)\n",
    "    axis.legend(loc=0, fontsize=fontsize)"
   ]
  },
  {
   "cell_type": "markdown",
   "id": "d25b7dde-39fb-4281-b8cd-cbf90a935aab",
   "metadata": {},
   "source": [
    "Let's just color the points by their class assigment, assigning classes with `Glut` in the name to one color, `GABA` to another, and all other classes their own color."
   ]
  },
  {
   "cell_type": "code",
   "execution_count": null,
   "id": "e0f83330-29f6-4213-86e6-783c19440244",
   "metadata": {},
   "outputs": [],
   "source": [
    "level = 'CCN20230722_CLAS'\n",
    "corr_cut = 0.4\n",
    "\n",
    "node_to_label = dict()\n",
    "for node in taxonomy_tree[level]:\n",
    "    name = taxonomy_tree['name_mapper'][level][node]['name']\n",
    "    if 'Glut' in name:\n",
    "        label = 'Glut'\n",
    "    elif 'GABA' in name:\n",
    "        label = 'GABA'\n",
    "    else:\n",
    "        label = name\n",
    "    node_to_label[node] = label\n",
    "\n",
    "barcode_to_label = dict()\n",
    "for barcode in mapping_result:\n",
    "    cell = mapping_result[barcode]\n",
    "    if cell[level]['avg_correlation'] < corr_cut:\n",
    "        continue\n",
    "    barcode_to_label[barcode] = node_to_label[cell[level]['assignment']]\n",
    "\n",
    "label_order = ['Glut', 'GABA']\n",
    "for label in set(barcode_to_label.values()):\n",
    "    if label not in label_order:\n",
    "        label_order.append(label)"
   ]
  },
  {
   "cell_type": "code",
   "execution_count": null,
   "id": "b55fa423-6510-4f42-9978-5fa43cc8e6cc",
   "metadata": {},
   "outputs": [],
   "source": [
    "label_order"
   ]
  },
  {
   "cell_type": "code",
   "execution_count": null,
   "id": "89ad8161-b8dd-46ee-8c49-6826828e8c45",
   "metadata": {},
   "outputs": [],
   "source": [
    "%%time\n",
    "plot_embedding(barcode_to_label=barcode_to_label, label_order=label_order)"
   ]
  },
  {
   "cell_type": "markdown",
   "id": "fa095283-ab3f-42b2-85be-b97ea4657fc3",
   "metadata": {},
   "source": [
    "Now let's look at the same plot, coloring each individual `Glut` class separately."
   ]
  },
  {
   "cell_type": "code",
   "execution_count": null,
   "id": "71c8e35d-9dcb-40d9-bd58-d183a9fc3483",
   "metadata": {},
   "outputs": [],
   "source": [
    "node_to_label = dict()\n",
    "for node in taxonomy_tree[level]:\n",
    "    name = taxonomy_tree['name_mapper'][level][node]['name']\n",
    "    if 'Glut' in name:\n",
    "        idx = 0\n",
    "        label = name\n",
    "    else:\n",
    "        label = 'Other'\n",
    "    node_to_label[node] = label\n",
    "\n",
    "barcode_to_label = dict()\n",
    "for barcode in mapping_result:\n",
    "    cell = mapping_result[barcode]\n",
    "    if cell[level]['avg_correlation'] < corr_cut:\n",
    "        continue\n",
    "    barcode_to_label[barcode] = node_to_label[cell[level]['assignment']]\n",
    "\n",
    "label_order = ['Other']\n",
    "for label in set(barcode_to_label.values()):\n",
    "    if label not in label_order:\n",
    "        label_order.append(label)"
   ]
  },
  {
   "cell_type": "code",
   "execution_count": null,
   "id": "1a08c6b1-aadb-4b49-9db8-1d40cba239e2",
   "metadata": {},
   "outputs": [],
   "source": [
    "%%time\n",
    "plot_embedding(barcode_to_label=barcode_to_label, label_order=label_order)"
   ]
  },
  {
   "cell_type": "markdown",
   "id": "eab4749d-dec7-4643-ad5b-1489a864069a",
   "metadata": {},
   "source": [
    "Look at the individual `GABA` classes."
   ]
  },
  {
   "cell_type": "code",
   "execution_count": null,
   "id": "a809acc5-0b36-4f3e-99cc-e6176a5e022f",
   "metadata": {},
   "outputs": [],
   "source": [
    "node_to_label = dict()\n",
    "for node in taxonomy_tree[level]:\n",
    "    name = taxonomy_tree['name_mapper'][level][node]['name']\n",
    "    if 'GABA' in name:\n",
    "        idx = 0\n",
    "        label = name\n",
    "    else:\n",
    "        label = 'Other'\n",
    "    node_to_label[node] = label\n",
    "\n",
    "barcode_to_label = dict()\n",
    "for barcode in mapping_result:\n",
    "    cell = mapping_result[barcode]\n",
    "    if cell[level]['avg_correlation'] < corr_cut:\n",
    "        continue\n",
    "    barcode_to_label[barcode] = node_to_label[cell[level]['assignment']]\n",
    "\n",
    "label_order = ['Other']\n",
    "for label in set(barcode_to_label.values()):\n",
    "    if label not in label_order:\n",
    "        label_order.append(label)"
   ]
  },
  {
   "cell_type": "code",
   "execution_count": null,
   "id": "14bb0f61-df07-4923-9460-5a35677fb095",
   "metadata": {},
   "outputs": [],
   "source": [
    "%%time\n",
    "plot_embedding(barcode_to_label=barcode_to_label, label_order=label_order)"
   ]
  },
  {
   "cell_type": "markdown",
   "id": "8cfe4b4f-e670-4b4f-b0f9-133878de188f",
   "metadata": {},
   "source": [
    "Now let's color by subclass, but only consider children of the `Glut` class `01 IT-ET Glut` (`CS20230722_CLAS_01`)"
   ]
  },
  {
   "cell_type": "code",
   "execution_count": null,
   "id": "ef178610-3994-426a-9873-2daff02a31c6",
   "metadata": {},
   "outputs": [],
   "source": [
    "subclass_level = 'CCN20230722_SUBC'\n",
    "class_level = 'CCN20230722_CLAS'\n",
    "chosen_class = 'CS20230722_CLAS_01'\n",
    "node_to_label = dict()\n",
    "corr_cut = 0.4\n",
    "\n",
    "for node in taxonomy_tree[class_level][chosen_class]:\n",
    "    name = taxonomy_tree['name_mapper'][subclass_level][node]['name']\n",
    "    node_to_label[node] = name\n",
    "\n",
    "barcode_to_label = dict()\n",
    "for barcode in mapping_result:\n",
    "    cell = mapping_result[barcode]\n",
    "    if cell[class_level]['avg_correlation'] < corr_cut:\n",
    "        continue\n",
    "    if cell[subclass_level]['avg_correlation'] < corr_cut:\n",
    "        continue\n",
    "    if cell[class_level]['assignment'] != chosen_class:\n",
    "        continue\n",
    "    barcode_to_label[barcode] = node_to_label[cell[subclass_level]['assignment']]\n",
    "\n",
    "label_order =list(set(barcode_to_label.values()))\n",
    "label_order.sort()"
   ]
  },
  {
   "cell_type": "code",
   "execution_count": null,
   "id": "a73264b8-0082-4df4-ba73-2402d3f42e5d",
   "metadata": {},
   "outputs": [],
   "source": [
    "len(barcode_to_label)"
   ]
  },
  {
   "cell_type": "code",
   "execution_count": null,
   "id": "3130e123-30ed-4914-bda2-2c811b191133",
   "metadata": {},
   "outputs": [],
   "source": [
    "%%time\n",
    "plot_embedding(barcode_to_label=barcode_to_label, label_order=label_order, fontsize=12)"
   ]
  },
  {
   "cell_type": "code",
   "execution_count": null,
   "id": "28334447-530d-41cb-8204-37864b47b585",
   "metadata": {},
   "outputs": [],
   "source": []
  },
  {
   "cell_type": "code",
   "execution_count": null,
   "id": "211ff1db-1c3f-41d7-8691-e25a33dcccf5",
   "metadata": {},
   "outputs": [],
   "source": []
  }
 ],
 "metadata": {
  "kernelspec": {
   "display_name": "Python 3 (ipykernel)",
   "language": "python",
   "name": "python3"
  },
  "language_info": {
   "codemirror_mode": {
    "name": "ipython",
    "version": 3
   },
   "file_extension": ".py",
   "mimetype": "text/x-python",
   "name": "python",
   "nbconvert_exporter": "python",
   "pygments_lexer": "ipython3",
   "version": "3.9.16"
  }
 },
 "nbformat": 4,
 "nbformat_minor": 5
}
