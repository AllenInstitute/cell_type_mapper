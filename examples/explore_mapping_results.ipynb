{
 "cells": [
  {
   "cell_type": "markdown",
   "id": "8808301b-463d-45b3-bb21-98df7e2f23e8",
   "metadata": {},
   "source": [
    "## Set up environment\n",
    "\n",
    "The cell below will install the python libraries necessary to run this notebook"
   ]
  },
  {
   "cell_type": "code",
   "execution_count": null,
   "id": "2fcabbbc-9d6a-49b1-a280-2d25e125a105",
   "metadata": {},
   "outputs": [],
   "source": [
    "! pip install anndata matplotlib numpy pandas scipy umap-learn"
   ]
  },
  {
   "cell_type": "markdown",
   "id": "7f666648-01ae-49aa-86fa-ddc57cc3d688",
   "metadata": {},
   "source": [
    "After installing the libraries, you need to restart the kernel so that you can import the libraries into this notebook."
   ]
  },
  {
   "cell_type": "code",
   "execution_count": null,
   "id": "55323c07-9bec-4d5e-ad04-124b58b08fb0",
   "metadata": {},
   "outputs": [],
   "source": [
    "from IPython import get_ipython\n",
    "\n",
    "get_ipython().kernel.do_shutdown(restart=True)"
   ]
  },
  {
   "cell_type": "code",
   "execution_count": null,
   "id": "3ccc9b5a-54a0-4199-9f95-5e2974a362b5",
   "metadata": {},
   "outputs": [],
   "source": [
    "import matplotlib\n",
    "import matplotlib.pyplot as plt\n",
    "\n",
    "import anndata\n",
    "import datetime\n",
    "import hashlib\n",
    "import json\n",
    "import numpy as np\n",
    "import pandas as pd\n",
    "import pathlib\n",
    "import scipy.sparse\n",
    "import subprocess\n",
    "import tempfile\n",
    "import umap"
   ]
  },
  {
   "cell_type": "markdown",
   "id": "50e11071-a3d3-4bc6-b90f-9b81efaab57d",
   "metadata": {},
   "source": [
    "Let's define (and create, if necessary) a directory in which we can store all of the data generated and consumed by this notebook."
   ]
  },
  {
   "cell_type": "code",
   "execution_count": null,
   "id": "5b97bcc3-1230-4ded-9d6e-768cb1ead9a6",
   "metadata": {},
   "outputs": [],
   "source": [
    "parent_data_dir = pathlib.Path('data')\n",
    "if not parent_data_dir.exists():\n",
    "    parent_data_dir.mkdir()\n",
    "\n",
    "assert parent_data_dir.is_dir()"
   ]
  },
  {
   "cell_type": "markdown",
   "id": "584af444-3d1d-415d-8ac8-1f9e830c81ec",
   "metadata": {},
   "source": [
    "## Downloading example data and writing it to an h5ad file\n",
    "\n",
    "The cell below downloads the data from the NEMO archive (if necessary). It will also validate that the file has the expected md5 checksum. The data in question is taken from Langlieb et al. 2023 (https://doi.org/10.1101/2023.03.06.531307)"
   ]
  },
  {
   "cell_type": "code",
   "execution_count": null,
   "id": "e21e67ab-01cd-4b2e-b825-9aaa7142f307",
   "metadata": {},
   "outputs": [],
   "source": [
    "data_url = \"https://data.nemoarchive.org/biccn/grant/u19_huang/macosko_regev/transcriptome/sncell/10X_v2/mouse/processed/counts/pBICCNsMMrMOPi70470511Bd180328.mex.tar.gz\"\n",
    "data_dst = parent_data_dir / \"downloaded_file.tar.gz\"\n",
    "\n",
    "if not data_dst.exists():\n",
    "    args = [\n",
    "        \"curl\",\n",
    "        \"-o\",\n",
    "        str(data_dst.resolve().absolute()),\n",
    "        data_url\n",
    "    ]\n",
    "\n",
    "    process = subprocess.Popen(args)\n",
    "    process.wait()\n",
    "\n",
    "assert data_dst.is_file()\n",
    "\n",
    "expected_hash = \"81ffc75a15bc40e32888bb2db9eecb52\"\n",
    "hasher = hashlib.md5()\n",
    "with open(data_dst, \"rb\") as src:\n",
    "    hasher.update(src.read())\n",
    "\n",
    "assert hasher.hexdigest() == expected_hash\n",
    "print(\"=======FILE SUCCESSFULLLY DOWNLOADED=======\")"
   ]
  },
  {
   "cell_type": "markdown",
   "id": "434476c0-7b61-4cf3-b399-fc684b3fd34a",
   "metadata": {},
   "source": [
    "The cell below will untar the downloaded file."
   ]
  },
  {
   "cell_type": "code",
   "execution_count": null,
   "id": "581025ed-f2e0-479b-8329-d004b35b9650",
   "metadata": {},
   "outputs": [],
   "source": [
    "data_dir = parent_data_dir / 'untarred_data'\n",
    "if not data_dir.exists():\n",
    "    data_dir.mkdir()\n",
    "\n",
    "args = [\n",
    "    \"tar\",\n",
    "    \"-xvf\",\n",
    "    str(data_dst.resolve().absolute()),\n",
    "    \"--directory\",\n",
    "    str(data_dir.resolve().absolute())\n",
    "]\n",
    "process = subprocess.Popen(args)\n",
    "process.wait()\n",
    "print(f\"=======FILE SUCCESSFULLY UNTARRED TO {data_dir}=======\")"
   ]
  },
  {
   "cell_type": "markdown",
   "id": "63257981-11ab-432f-bd76-e399786791e2",
   "metadata": {},
   "source": [
    "The cell below will write the data into an h5ad file that is suited for submission to MapMyCells."
   ]
  },
  {
   "cell_type": "code",
   "execution_count": null,
   "id": "23542141-2d50-4b6c-898f-868393b390af",
   "metadata": {},
   "outputs": [],
   "source": [
    "min_genes = 100  # only use wells with this many non-zero gene counts (or more)\n",
    "\n",
    "h5ad_path = parent_data_dir / f\"example_h5ad_min_genes_{min_genes:04}.h5ad\"\n",
    "\n",
    "if h5ad_path.exists():\n",
    "    h5ad_path.unlink()\n",
    "\n",
    "actual_data_dir = [n for n in data_dir.iterdir() if n.is_dir()][0]\n",
    "\n",
    "gene_file_path = actual_data_dir / 'genes.tsv'\n",
    "assert gene_file_path.is_file()\n",
    "\n",
    "# Assemble a list of gene identifiers to serve as the index of 'var' in the h5ad file.\n",
    "# We are going to make things more difficult on ourselves, identifying the genes\n",
    "# by their symbols, rather than their EnsemblIDs (which are available in the .tsv\n",
    "# file). MapMyCells prefers to work in EnsemblID, but can map common gene symbols\n",
    "# to EnsemblID. We are using the gene symbols here to showcase that functionality.\n",
    "#\n",
    "# In \"actual\" production, it is best practice to identify all genes using\n",
    "# EnsemblID.\n",
    "\n",
    "gene_symbols = []\n",
    "gene_identifiers = []\n",
    "symbol_to_ct = dict()\n",
    "\n",
    "with open(gene_file_path, 'r') as src:\n",
    "    for line in src:\n",
    "        line = line.split()\n",
    "        identifier = line[0]\n",
    "        symbol = line[1]\n",
    "        gene_identifiers.append(identifier)\n",
    "        gene_symbols.append(symbol)\n",
    "        if symbol not in symbol_to_ct:\n",
    "            symbol_to_ct[symbol] = 0\n",
    "        symbol_to_ct[symbol] += 1\n",
    "\n",
    "gene_list = []\n",
    "for symbol, identifier in zip(gene_symbols, gene_identifiers):\n",
    "    if symbol_to_ct[symbol] == 1:\n",
    "        gene_list.append(symbol)\n",
    "    else:\n",
    "        gene_list.append(identifier)\n",
    "\n",
    "assert len(set(gene_list)) == len(gene_list)\n",
    "\n",
    "print(f\"=======READ GENES FROM {gene_file_path}=======\")\n",
    "\n",
    "# Assemble a list of well barcodes to serve as the index of obs in our\n",
    "# h5ad file.\n",
    "\n",
    "barcode_file_path = actual_data_dir / 'barcodes.tsv'\n",
    "assert barcode_file_path.is_file()\n",
    "with open(barcode_file_path, 'r') as src:\n",
    "    cell_list = [c.strip() for c in src]\n",
    "print(f\"=======READ CELL BARCODES FROM {barcode_file_path}=======\")\n",
    "\n",
    "# Identify the wells that pass our cut on min_genes.\n",
    "\n",
    "matrix_file_path = actual_data_dir / 'matrix.mtx'\n",
    "\n",
    "with open(matrix_file_path, 'r') as src:\n",
    "    src.readline()\n",
    "    src.readline()\n",
    "    src.readline()\n",
    "    cell_idx = np.array(\n",
    "        [int(r.strip().split()[1])-1 for r in src])\n",
    "\n",
    "unq_idx, ct = np.unique(cell_idx, return_counts=True)\n",
    "valid_cell_idx = np.sort(unq_idx[(ct>=min_genes)])\n",
    "cell_list = [cell_list[ii] for ii in valid_cell_idx]\n",
    "\n",
    "\n",
    "# dict mapping old cell idx to new cell idx\n",
    "cell_idx_transform = {old:new for new, old in enumerate(valid_cell_idx)}\n",
    "\n",
    "valid_cells = set(valid_cell_idx)\n",
    "\n",
    "print(f\"======={len(valid_cells)} CELLS PASSED gene ct>={min_genes}=======\")\n",
    "\n",
    "obs = pd.DataFrame([{'barcode': c} for c in cell_list]).set_index('barcode')\n",
    "var = pd.DataFrame([{'gene_id': g} for g in gene_list]).set_index('gene_id')\n",
    "\n",
    "# Put together the cell-by-gene matrix\n",
    "\n",
    "row_idx = []\n",
    "col_idx = []\n",
    "counts = []\n",
    "with open(matrix_file_path, 'r') as src:\n",
    "    src.readline()\n",
    "    src.readline()\n",
    "    src.readline()\n",
    "    for line in src:\n",
    "        params = line.strip().split()\n",
    "        this_gene = int(params[0])-1\n",
    "        this_cell = int(params[1])-1\n",
    "        this_ct = int(params[2])\n",
    "        if this_cell in valid_cells:\n",
    "            row_idx.append(cell_idx_transform[this_cell])\n",
    "            col_idx.append(this_gene)\n",
    "            counts.append(this_ct)\n",
    "\n",
    "print(f\"=======READ MATRIX FROM {matrix_file_path}=======\")\n",
    "\n",
    "X_data = scipy.sparse.csr_matrix(\n",
    "    (\n",
    "     counts,\n",
    "     (row_idx, col_idx)\n",
    "    ),\n",
    "    shape=(len(obs), len(var))\n",
    ")\n",
    "\n",
    "a_data = anndata.AnnData(\n",
    "    X=X_data,\n",
    "    obs=obs,\n",
    "    var=var\n",
    ")\n",
    "\n",
    "a_data.write_h5ad(h5ad_path, compression='gzip', compression_opts=4)\n",
    "\n",
    "print(f\"\\n=======WROTE h5ad FILE TO {h5ad_path.resolve().absolute()}=======\")\n",
    "\n",
    "timestamp = datetime.datetime.now().isoformat().split('T')[0]\n",
    "salt = 0\n",
    "mapping_dir = None\n",
    "while mapping_dir is None or mapping_dir.exists():\n",
    "    mapping_dir_name = f\"mapping_{timestamp}_{salt:03}\"\n",
    "    mapping_dir = parent_data_dir / mapping_dir_name\n",
    "    if mapping_dir.exists():\n",
    "        contents = [n for n in mapping_dir.iterdir()]\n",
    "        if len(contents) == 0:\n",
    "            mapping_dir.rmdir()\n",
    "    salt += 1\n",
    "\n",
    "mapping_dir.mkdir(exist_ok=False)\n",
    "\n",
    "print(\n",
    "f\"=======PLEASE SUBMIT h5ad FILE TO MapMyCells AT=======\\n\"\n",
    "\"https://knowledge.brain-map.org/mapmycells/process/\\n\"\n",
    "f\"=======AND DOWNLOAD RESULTS TO {mapping_dir.resolve().absolute()}=======\"\n",
    ")\n"
   ]
  },
  {
   "cell_type": "markdown",
   "id": "d9509e1b-c389-4551-b0b2-f0c2dcdf4470",
   "metadata": {},
   "source": [
    "Read the original h5ad file so that we can inspect its contents."
   ]
  },
  {
   "cell_type": "code",
   "execution_count": null,
   "id": "664bbc6b-ab92-4a2e-84cb-f8e2a271acc1",
   "metadata": {},
   "outputs": [],
   "source": [
    "raw_data = anndata.read_h5ad(h5ad_path, backed='r')"
   ]
  },
  {
   "cell_type": "markdown",
   "id": "c82abd2b-ab46-48d1-8d3b-6f887375163b",
   "metadata": {},
   "source": [
    "Note that the `obs` object of the unlabeled h5ad file is indexed on the unique identifiers of each cell."
   ]
  },
  {
   "cell_type": "code",
   "execution_count": null,
   "id": "be8e91ac-52da-4a12-9b43-d58672f3a336",
   "metadata": {},
   "outputs": [],
   "source": [
    "raw_data.obs"
   ]
  },
  {
   "cell_type": "markdown",
   "id": "b6faf1bf-9b6b-4426-8e5c-500b6e126b40",
   "metadata": {},
   "source": [
    "The `var` object is indexed on the unique identifiers of each gene.\n",
    "\n",
    "**Note:** MapMyCells prefers to work in EnsemblID. However, it does contain code to translate from common gene symbols to EnsemblIDs if you cannot directly provide the EnsemblIDs yourself."
   ]
  },
  {
   "cell_type": "code",
   "execution_count": null,
   "id": "41051b65-49ba-40bf-9d10-e666f72e1167",
   "metadata": {},
   "outputs": [],
   "source": [
    "raw_data.var"
   ]
  },
  {
   "cell_type": "markdown",
   "id": "643f29c0-1fdd-4d94-b337-6dfa65a75174",
   "metadata": {},
   "source": [
    "The `X` element contains the **raw** (i.e. not the log-normalized) counts of each gene measured in each cell."
   ]
  },
  {
   "cell_type": "code",
   "execution_count": null,
   "id": "d6402d86-4363-487f-a647-7e375ff5a4e3",
   "metadata": {},
   "outputs": [],
   "source": [
    "raw_data.X"
   ]
  },
  {
   "cell_type": "markdown",
   "id": "a8a0aff2-647d-48ac-a0be-2c772f7041b5",
   "metadata": {},
   "source": [
    "## Unzip and inspect the files produced by MapMyCells\n",
    "\n",
    "**Note:** If you have not already, submit the h5ad file created above (see `h5ad_path`) for processing at\n",
    "\n",
    "https://knowledge.brain-map.org/mapmycells/process/\n",
    "\n",
    "and then download the results to `mapping_dir`.\n",
    "\n",
    "### Inspect MapMyCells results\n",
    "\n",
    "MapMyCells returns all of its outputs in a single .zip file. To usefully analyze it, you must unzip the file into its constituent parts."
   ]
  },
  {
   "cell_type": "code",
   "execution_count": null,
   "id": "957cf770-e864-4d53-9d33-3e6462795ebc",
   "metadata": {},
   "outputs": [],
   "source": [
    "zip_file_path = [n for n in mapping_dir.rglob('**/*.zip')]\n",
    "if len(zip_file_path) != 1:\n",
    "    raise RuntimeError(\n",
    "        f\"Found {len(zip_file_path)} zip files in {mapping_dir}; expected exactly 1\"\n",
    "    )\n",
    "zip_file_path = zip_file_path[0]\n",
    "zip_file_stem = zip_file_path.stem\n",
    "args = [\n",
    "    \"tar\",\n",
    "    \"-xvf\",\n",
    "    str(zip_file_path.resolve().absolute()),\n",
    "    \"--directory\",\n",
    "    str(mapping_dir.resolve().absolute())\n",
    "]\n",
    "\n",
    "process = subprocess.Popen(args)\n",
    "process.wait()\n",
    "\n",
    "# the path to the CSV file containingin mapping results\n",
    "csv_path = mapping_dir / f\"{zip_file_stem}.csv\"\n",
    "assert csv_path.is_file()\n",
    "\n",
    "# the path to the JSON file containing mapping results\n",
    "json_path = mapping_dir / f\"{zip_file_stem}.json\"\n",
    "assert json_path.is_file()\n"
   ]
  },
  {
   "cell_type": "markdown",
   "id": "c420eafc-886a-451f-980d-82293b0fa6c0",
   "metadata": {},
   "source": [
    "### CSV mapping results\n",
    "\n",
    "Let us now look at the contents of the CSV file returned by MapMyCells.\n",
    "\n",
    "The first 3-4 (depending on the chosen taxonomy and algorithm) lines contain metadata describing the MapMyCells run. These are flagged with a `#`."
   ]
  },
  {
   "cell_type": "code",
   "execution_count": null,
   "id": "8fa3ea09-e8e0-4a27-b00a-37ae8f1423a6",
   "metadata": {},
   "outputs": [],
   "source": [
    "with open(csv_path, 'r') as src:\n",
    "    for line in src.readlines()[:6]:\n",
    "        print(line)"
   ]
  },
  {
   "cell_type": "markdown",
   "id": "109bd7e7-bed6-43aa-9162-7b10a26fff46",
   "metadata": {},
   "source": [
    "You can read the CSV file in with `pandas`. Be sure to tell pandas to ignore lines that begin with a `#`."
   ]
  },
  {
   "cell_type": "code",
   "execution_count": null,
   "id": "6c00ddb3-5363-4f1c-93b4-5ecaab8018d3",
   "metadata": {},
   "outputs": [],
   "source": [
    "csv_results = pd.read_csv(csv_path, comment='#')\n",
    "csv_results"
   ]
  },
  {
   "cell_type": "markdown",
   "id": "a87d93da-182a-453c-beaa-f3e15e7661bb",
   "metadata": {},
   "source": [
    "Each row in the resulting DataFrame corresponds to a cell. The columns list the cell's ID, the machine- and human-readable names of the cell types teh cell was assigned to at each level, as well as the `bootstrapping_probability` for the assignment.\n",
    "\n",
    "`bootstrapping_probability` is a quality metric for the mapping. Recall that hierarchical mapping maps the cell 100 times, using a random subset of marker genes for each iteration, and assigning the cell to the cell type that is most correlated with the cell in the plurality of those 100 iterations. `bootstrapping_probability` is the fraction of the 100 iterations that chose the final assignment."
   ]
  },
  {
   "cell_type": "code",
   "execution_count": null,
   "id": "c1b32a3e-bd68-4812-bb28-e15a4a2a286c",
   "metadata": {},
   "outputs": [],
   "source": [
    "list(csv_results.columns)"
   ]
  },
  {
   "cell_type": "markdown",
   "id": "b2231f98-2abf-44e6-b0df-f738bc3f7b56",
   "metadata": {},
   "source": [
    "### JSON mapping results\n",
    "\n",
    "Now let's read in the JSON file. This contains the same results as the CSV file, along with additional quality metrics and metadata."
   ]
  },
  {
   "cell_type": "code",
   "execution_count": null,
   "id": "11a07951-38a6-43a4-945f-56e557a1d99c",
   "metadata": {},
   "outputs": [],
   "source": [
    "with open(json_path, 'rb') as src:\n",
    "    json_results = json.load(src)\n",
    "json_results.keys()"
   ]
  },
  {
   "cell_type": "markdown",
   "id": "67219193-8635-4586-a627-b9a051e5a478",
   "metadata": {},
   "source": [
    "`json_results` is a dict. The mapping results are stored in `results`, which maps to a list of dicts, each of which represents a cell from the unlabeled dataset.\n",
    "\n",
    "The dict representing each cell is keyed on the machine-readable labels for levels in the cell type taxonomy (in our case `CCN20230722_CLUS`, `CCN20230722_SUBC`, `CCN20230722_SUPT`, `CCN20230722_CLAS`). Under each of these keys you will find the same data as in the CSV file. Additionally, you will find:\n",
    "\n",
    "- `avg_correlation`, the correlation coefficient between the cell and the chosen cell type *averaged over the iterations that selected that cell type.*\n",
    "- `runner_up_assignment`, `runner_up_correlation`, `runner_up_probability`, lists indicating the labels, `avg_correlation`, and `bootstrapping_probability` for the five cell types that got the next highest number of \"votes\" among the 100 mapping iterations.\n",
    "- `aggregate_probability`, the running product of `bootstrapping_probability` from most gross to most fine level in the taxonomy.\n",
    "- `directly_assigned` a boolean indicating whether or not the class was chosen directly (in the Whole Mouse Brain taxonomy, supertype is not directly assigned; the assignment goes directly from subclass to cluster and supertype is inferred from the chosen cluster)"
   ]
  },
  {
   "cell_type": "code",
   "execution_count": null,
   "id": "2be9d708-8194-4b68-accd-14ddb9b3af1e",
   "metadata": {},
   "outputs": [],
   "source": [
    "print(json.dumps(json_results['results'][1000], indent=2, sort_keys=True))"
   ]
  },
  {
   "cell_type": "markdown",
   "id": "7b9dd534-9e71-40ad-b305-f2e8ae425645",
   "metadata": {},
   "source": [
    "The `gene_identifier_mapping` key maps to dict showing how MapMyCells mapped your gene symbols to EnsemblID. If MapMyCells could not find a gene in its lookup tables, the gene will be mapped to a nonsense identifier beginning with `unmapped_`"
   ]
  },
  {
   "cell_type": "code",
   "execution_count": null,
   "id": "f979fc79-f6d7-492f-ba1d-d8278f164d3c",
   "metadata": {},
   "outputs": [],
   "source": [
    "json_results['gene_identifier_mapping']"
   ]
  },
  {
   "cell_type": "markdown",
   "id": "c317973c-6829-408f-9382-4abe37fb08a5",
   "metadata": {},
   "source": [
    "Information about the cell type taxonomy to which your data was mapped is stored under the `taxonomy_tree` key."
   ]
  },
  {
   "cell_type": "code",
   "execution_count": null,
   "id": "265bb137-2b16-4349-9cfa-292443c0a087",
   "metadata": {},
   "outputs": [],
   "source": [
    "taxonomy_tree = json_results['taxonomy_tree']"
   ]
  },
  {
   "cell_type": "code",
   "execution_count": null,
   "id": "5530d24a-01ee-4e71-be0f-201736cc9c1b",
   "metadata": {},
   "outputs": [],
   "source": [
    "taxonomy_tree.keys()"
   ]
  },
  {
   "cell_type": "markdown",
   "id": "4c346507-caa2-4a39-9eb3-c9bf1b17f4ab",
   "metadata": {},
   "source": [
    "`hierarchy` lists the levels of the cell type taxonomy from most gross to most fine."
   ]
  },
  {
   "cell_type": "code",
   "execution_count": null,
   "id": "fe3e1c56-d025-4c3d-a6ea-c61ada44346a",
   "metadata": {},
   "outputs": [],
   "source": [
    "taxonomy_tree['hierarchy']"
   ]
  },
  {
   "cell_type": "markdown",
   "id": "8bc37e4b-d9ab-4d48-b6bd-c1332b2448d1",
   "metadata": {},
   "source": [
    "The machine-readable labels can be translated to human-readable labels using the `hierarchy_mapper`."
   ]
  },
  {
   "cell_type": "code",
   "execution_count": null,
   "id": "efc7bf9c-2f8f-4cc6-baa5-fe7898a832a6",
   "metadata": {},
   "outputs": [],
   "source": [
    "taxonomy_tree['hierarchy_mapper']"
   ]
  },
  {
   "cell_type": "markdown",
   "id": "f266c424-ac85-45cf-8c29-0f07234868cd",
   "metadata": {},
   "source": [
    "Parent-child relationships are listed under the various levels in the taxonomy. For instance, `CCN20230722_CLAS` keys to a dict which maps the individual cell types (e.g. `CS20230722_CLAS_01`) to lists of their children."
   ]
  },
  {
   "cell_type": "code",
   "execution_count": null,
   "id": "a3f0c669-58e5-4876-8544-9d71ae9b8e1d",
   "metadata": {},
   "outputs": [],
   "source": [
    "taxonomy_tree['CCN20230722_CLAS']"
   ]
  },
  {
   "cell_type": "markdown",
   "id": "373ca843-a1c9-461d-bcfd-a248f176cd87",
   "metadata": {},
   "source": [
    "The `name_mapper` field provides for a translation between machine-readable labels and human-readable names."
   ]
  },
  {
   "cell_type": "code",
   "execution_count": null,
   "id": "9c10981c-e192-440c-a714-a5d28b6170b8",
   "metadata": {},
   "outputs": [],
   "source": [
    "taxonomy_tree['name_mapper'][taxonomy_tree['hierarchy'][0]]"
   ]
  },
  {
   "cell_type": "markdown",
   "id": "2ad7bf46-b951-42e0-b28d-b9f9b5e0e97c",
   "metadata": {},
   "source": [
    "## QC plot\n",
    "\n",
    "Now let's do a quick QC assessment of our mapping. Let's plot `avg_correlation` and `bootstrapping_probability` for a cell's class assignment (the highest level in the Whole Mouse Brain taxonomy) against the number of genes measured with non-zero counts in that cell."
   ]
  },
  {
   "cell_type": "code",
   "execution_count": null,
   "id": "550f6928-f761-4356-9021-05df5b129463",
   "metadata": {},
   "outputs": [],
   "source": [
    "level = 'CCN20230722_CLAS'\n",
    "\n",
    "cell_barcodes = raw_data.obs.index.values\n",
    "\n",
    "# convert cell type mapping into a dict keyed on each cell's barcode\n",
    "mapping_result = {c['cell_id']: c for c in json_results['results']}\n",
    "\n",
    "# get an array of how many genes were measured with more than 0 counts in each cell\n",
    "n_genes = (raw_data.X[()].toarray()>0).sum(axis=1)\n",
    "\n",
    "# assemble arrays of the two QC metrics\n",
    "avg_corr = np.array([mapping_result[b][level]['avg_correlation'] for b in cell_barcodes])\n",
    "bootstrapping_prob = np.array([mapping_result[b][level]['bootstrapping_probability'] for b in cell_barcodes])\n",
    "\n",
    "fig = plt.figure(figsize=(15,5))\n",
    "corr_axis = fig.add_subplot(1,3,1)\n",
    "prob_axis = fig.add_subplot(1,3,2)\n",
    "corr_v_prob_axis = fig.add_subplot(1,3,3)\n",
    "\n",
    "level_name = taxonomy_tree['hierarchy_mapper'][level]\n",
    "\n",
    "corr_axis.set_title(level_name)\n",
    "corr_axis.scatter(n_genes, avg_corr, s=1)\n",
    "corr_axis.set_xlabel('N non-zero genes')\n",
    "corr_axis.set_ylabel('average correlation')\n",
    "corr_axis.set_xscale('log')\n",
    "\n",
    "prob_axis.scatter(n_genes, bootstrapping_prob, s=1)\n",
    "prob_axis.set_xlabel('N non-zero genes')\n",
    "prob_axis.set_ylabel('bootstrapping probability')\n",
    "prob_axis.set_xscale('log')\n",
    "\n",
    "corr_v_prob_axis.scatter(avg_corr, bootstrapping_prob, s=1)\n",
    "corr_v_prob_axis.set_xlabel('average correlation')\n",
    "corr_v_prob_axis.set_ylabel('bootstrapping probability')"
   ]
  },
  {
   "cell_type": "markdown",
   "id": "a838f718-abe3-462b-8aee-f1a5e561fc79",
   "metadata": {},
   "source": [
    "## UMAP plot\n",
    "\n",
    "Below we demonstrate how to generate a UMAP of the unlabeled data and plot it, coloring the points according to the cell types assigned by MapMyCells.\n",
    "\n",
    "First, define a helper function to generate and plot the embedding."
   ]
  },
  {
   "cell_type": "code",
   "execution_count": null,
   "id": "c6051505-2a58-413e-b211-84eeb969b927",
   "metadata": {},
   "outputs": [],
   "source": [
    "def plot_embedding(\n",
    "        barcode_to_label,\n",
    "        label_order,\n",
    "        fontsize=15):\n",
    "    \"\"\"\n",
    "    Generate and plot a UMAP embedding of the raw data.\n",
    "\n",
    "    Parameters\n",
    "    ----------\n",
    "    barcode_to_label:\n",
    "        A dict mapping cell barcodes to labels (only includes\n",
    "        cells that we want included in the embedding)\n",
    "    label_order:\n",
    "        order in which we want labels to appear on the color map.\n",
    "    fontsize:\n",
    "        size of font to be used in legend\n",
    "\n",
    "    Returns\n",
    "    -------\n",
    "    None\n",
    "        generates and displays the plot of the embedding\n",
    "    \"\"\"\n",
    "\n",
    "    level = 'CCN20230722_CLAS'\n",
    "    reducer = umap.UMAP()\n",
    "\n",
    "    _barcodes = raw_data.obs.index.values\n",
    "    data = raw_data.X[()].toarray()\n",
    "\n",
    "    filter_mask = np.zeros(data.shape[0], dtype=bool)\n",
    "    for ii, b in enumerate(_barcodes):\n",
    "        if b in barcode_to_label:\n",
    "            filter_mask[ii] = True\n",
    "\n",
    "    if not hasattr(plot_embedding, 'filter_mask'):\n",
    "        plot_embedding.embedding =  None\n",
    "\n",
    "    run_embedding = False\n",
    "    if plot_embedding.embedding is None:\n",
    "        run_embedding = True\n",
    "    elif not np.array_equal(filter_mask, plot_embedding.filter_mask):\n",
    "        run_embedding = True\n",
    "\n",
    "    if run_embedding:\n",
    "        plot_embedding.embedding = reducer.fit_transform(data[filter_mask, :])\n",
    "        plot_embedding.filter_mask = filter_mask\n",
    "\n",
    "    embedding = plot_embedding.embedding\n",
    "\n",
    "    label_to_idx = {label:ii for ii, label in enumerate(label_order)}\n",
    "    \n",
    "    assignments = np.array(\n",
    "        [\n",
    "            label_to_idx[\n",
    "                barcode_to_label[b]\n",
    "            ] for b in _barcodes[filter_mask]\n",
    "        ]\n",
    "    )\n",
    "\n",
    "    ticks = [ii for ii in range(len(label_order))]\n",
    "\n",
    "    fig = plt.figure(figsize=(10,10))\n",
    "    axis = fig.add_subplot(1,1,1)\n",
    "    for label in label_order:\n",
    "        cell_mask = (assignments==label_to_idx[label])\n",
    "        axis.scatter(embedding[cell_mask, 0], embedding[cell_mask, 1], label=label, s=10)\n",
    "    axis.legend(loc=0, fontsize=fontsize)"
   ]
  },
  {
   "cell_type": "markdown",
   "id": "d25b7dde-39fb-4281-b8cd-cbf90a935aab",
   "metadata": {},
   "source": [
    "Let's just color the points by their class assigment, assigning classes with `Glut` in the name to one color, `GABA` to another, and all other classes their own color."
   ]
  },
  {
   "cell_type": "code",
   "execution_count": null,
   "id": "e0f83330-29f6-4213-86e6-783c19440244",
   "metadata": {},
   "outputs": [],
   "source": [
    "level = 'CCN20230722_CLAS'\n",
    "corr_cut = 0.4\n",
    "\n",
    "node_to_label = dict()\n",
    "for node in taxonomy_tree[level]:\n",
    "    name = taxonomy_tree['name_mapper'][level][node]['name']\n",
    "    if 'Glut' in name:\n",
    "        label = 'Glut'\n",
    "    elif 'GABA' in name:\n",
    "        label = 'GABA'\n",
    "    else:\n",
    "        label = name\n",
    "    node_to_label[node] = label\n",
    "\n",
    "barcode_to_label = dict()\n",
    "for barcode in mapping_result:\n",
    "    cell = mapping_result[barcode]\n",
    "    if cell[level]['avg_correlation'] < corr_cut:\n",
    "        continue\n",
    "    barcode_to_label[barcode] = node_to_label[cell[level]['assignment']]\n",
    "\n",
    "label_order = ['Glut', 'GABA']\n",
    "for label in set(barcode_to_label.values()):\n",
    "    if label not in label_order:\n",
    "        label_order.append(label)"
   ]
  },
  {
   "cell_type": "code",
   "execution_count": null,
   "id": "b55fa423-6510-4f42-9978-5fa43cc8e6cc",
   "metadata": {},
   "outputs": [],
   "source": [
    "label_order"
   ]
  },
  {
   "cell_type": "code",
   "execution_count": null,
   "id": "89ad8161-b8dd-46ee-8c49-6826828e8c45",
   "metadata": {},
   "outputs": [],
   "source": [
    "%%time\n",
    "plot_embedding(barcode_to_label=barcode_to_label, label_order=label_order)"
   ]
  },
  {
   "cell_type": "markdown",
   "id": "fa095283-ab3f-42b2-85be-b97ea4657fc3",
   "metadata": {},
   "source": [
    "Now let's look at the same plot, coloring each individual `Glut` class separately."
   ]
  },
  {
   "cell_type": "code",
   "execution_count": null,
   "id": "71c8e35d-9dcb-40d9-bd58-d183a9fc3483",
   "metadata": {},
   "outputs": [],
   "source": [
    "node_to_label = dict()\n",
    "for node in taxonomy_tree[level]:\n",
    "    name = taxonomy_tree['name_mapper'][level][node]['name']\n",
    "    if 'Glut' in name:\n",
    "        idx = 0\n",
    "        label = name\n",
    "    else:\n",
    "        label = 'Other'\n",
    "    node_to_label[node] = label\n",
    "\n",
    "barcode_to_label = dict()\n",
    "for barcode in mapping_result:\n",
    "    cell = mapping_result[barcode]\n",
    "    if cell[level]['avg_correlation'] < corr_cut:\n",
    "        continue\n",
    "    barcode_to_label[barcode] = node_to_label[cell[level]['assignment']]\n",
    "\n",
    "label_order = ['Other']\n",
    "for label in set(barcode_to_label.values()):\n",
    "    if label not in label_order:\n",
    "        label_order.append(label)"
   ]
  },
  {
   "cell_type": "code",
   "execution_count": null,
   "id": "1a08c6b1-aadb-4b49-9db8-1d40cba239e2",
   "metadata": {},
   "outputs": [],
   "source": [
    "%%time\n",
    "plot_embedding(barcode_to_label=barcode_to_label, label_order=label_order)"
   ]
  },
  {
   "cell_type": "markdown",
   "id": "eab4749d-dec7-4643-ad5b-1489a864069a",
   "metadata": {},
   "source": [
    "Look at the individual `GABA` classes."
   ]
  },
  {
   "cell_type": "code",
   "execution_count": null,
   "id": "a809acc5-0b36-4f3e-99cc-e6176a5e022f",
   "metadata": {},
   "outputs": [],
   "source": [
    "node_to_label = dict()\n",
    "for node in taxonomy_tree[level]:\n",
    "    name = taxonomy_tree['name_mapper'][level][node]['name']\n",
    "    if 'GABA' in name:\n",
    "        idx = 0\n",
    "        label = name\n",
    "    else:\n",
    "        label = 'Other'\n",
    "    node_to_label[node] = label\n",
    "\n",
    "barcode_to_label = dict()\n",
    "for barcode in mapping_result:\n",
    "    cell = mapping_result[barcode]\n",
    "    if cell[level]['avg_correlation'] < corr_cut:\n",
    "        continue\n",
    "    barcode_to_label[barcode] = node_to_label[cell[level]['assignment']]\n",
    "\n",
    "label_order = ['Other']\n",
    "for label in set(barcode_to_label.values()):\n",
    "    if label not in label_order:\n",
    "        label_order.append(label)"
   ]
  },
  {
   "cell_type": "code",
   "execution_count": null,
   "id": "14bb0f61-df07-4923-9460-5a35677fb095",
   "metadata": {},
   "outputs": [],
   "source": [
    "%%time\n",
    "plot_embedding(barcode_to_label=barcode_to_label, label_order=label_order)"
   ]
  },
  {
   "cell_type": "markdown",
   "id": "8cfe4b4f-e670-4b4f-b0f9-133878de188f",
   "metadata": {},
   "source": [
    "Now let's color by subclass, but only consider children of the `Glut` class `01 IT-ET Glut` (`CS20230722_CLAS_01`)"
   ]
  },
  {
   "cell_type": "code",
   "execution_count": null,
   "id": "ef178610-3994-426a-9873-2daff02a31c6",
   "metadata": {},
   "outputs": [],
   "source": [
    "subclass_level = 'CCN20230722_SUBC'\n",
    "class_level = 'CCN20230722_CLAS'\n",
    "chosen_class = 'CS20230722_CLAS_01'\n",
    "node_to_label = dict()\n",
    "corr_cut = 0.4\n",
    "\n",
    "for node in taxonomy_tree[class_level][chosen_class]:\n",
    "    name = taxonomy_tree['name_mapper'][subclass_level][node]['name']\n",
    "    node_to_label[node] = name\n",
    "\n",
    "barcode_to_label = dict()\n",
    "for barcode in mapping_result:\n",
    "    cell = mapping_result[barcode]\n",
    "    if cell[class_level]['avg_correlation'] < corr_cut:\n",
    "        continue\n",
    "    if cell[subclass_level]['avg_correlation'] < corr_cut:\n",
    "        continue\n",
    "    if cell[class_level]['assignment'] != chosen_class:\n",
    "        continue\n",
    "    barcode_to_label[barcode] = node_to_label[cell[subclass_level]['assignment']]\n",
    "\n",
    "label_order =list(set(barcode_to_label.values()))\n",
    "label_order.sort()"
   ]
  },
  {
   "cell_type": "code",
   "execution_count": null,
   "id": "a73264b8-0082-4df4-ba73-2402d3f42e5d",
   "metadata": {},
   "outputs": [],
   "source": [
    "len(barcode_to_label)"
   ]
  },
  {
   "cell_type": "code",
   "execution_count": null,
   "id": "3130e123-30ed-4914-bda2-2c811b191133",
   "metadata": {},
   "outputs": [],
   "source": [
    "%%time\n",
    "plot_embedding(barcode_to_label=barcode_to_label, label_order=label_order, fontsize=12)"
   ]
  },
  {
   "cell_type": "code",
   "execution_count": null,
   "id": "28334447-530d-41cb-8204-37864b47b585",
   "metadata": {},
   "outputs": [],
   "source": []
  },
  {
   "cell_type": "code",
   "execution_count": null,
   "id": "211ff1db-1c3f-41d7-8691-e25a33dcccf5",
   "metadata": {},
   "outputs": [],
   "source": []
  }
 ],
 "metadata": {
  "kernelspec": {
   "display_name": "Python 3 (ipykernel)",
   "language": "python",
   "name": "python3"
  },
  "language_info": {
   "codemirror_mode": {
    "name": "ipython",
    "version": 3
   },
   "file_extension": ".py",
   "mimetype": "text/x-python",
   "name": "python",
   "nbconvert_exporter": "python",
   "pygments_lexer": "ipython3",
   "version": "3.10.14"
  }
 },
 "nbformat": 4,
 "nbformat_minor": 5
}
