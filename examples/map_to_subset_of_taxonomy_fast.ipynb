{
 "cells": [
  {
   "cell_type": "markdown",
   "id": "2a1c91fa-044a-4394-87f6-9b66f7d72f9e",
   "metadata": {},
   "source": [
    "The purpose of this notebook is to demonstrate how to use the cell_type_mapper to map to a subset of a taxonomy. We will demonstrate this by mapping the non-neuronal data from the Siletti et al. 2023 Whole Human Brain dataset onto the SEA-AD MTG taxonomy. We will first map the data to the full SEA-AD taxonomy, and then map it onto the SEA-AD, limiting to the non-neuronal branch of the taxonomy."
   ]
  },
  {
   "cell_type": "code",
   "execution_count": 1,
   "id": "e6d7bd05-84dd-4760-99e7-192069bd659e",
   "metadata": {},
   "outputs": [],
   "source": [
    "import os\n",
    "os.environ['NUMEXPR_NUM_THREADS'] = '1'\n",
    "os.environ['MKL_NUM_THREADS'] = '1'\n",
    "os.environ['OMP_NUM_THREADS'] = '1'"
   ]
  },
  {
   "cell_type": "code",
   "execution_count": 2,
   "id": "f7c60287-5cb6-493e-b684-ddf53cbee3f5",
   "metadata": {},
   "outputs": [],
   "source": [
    "import pathlib\n",
    "import json\n",
    "import anndata\n",
    "\n",
    "cache_dir = pathlib.Path('data/abc_cache')\n",
    "if not cache_dir.exists():\n",
    "    cache_dir.mkdir()\n",
    "dst_dir = pathlib.Path('data/subset_test')\n",
    "if not dst_dir.exists():\n",
    "    dst_dir.mkdir()"
   ]
  },
  {
   "cell_type": "markdown",
   "id": "1a90fc16-17c7-45b4-a0ea-0ca823d7136b",
   "metadata": {},
   "source": [
    "## Download data artifacts to support running MapMyCells"
   ]
  },
  {
   "cell_type": "code",
   "execution_count": 3,
   "id": "d0b763db-8f45-4e5f-a817-3624d1355cde",
   "metadata": {},
   "outputs": [],
   "source": [
    "from cell_type_mapper.test_utils.cache_wrapper import AbcCacheWrapper"
   ]
  },
  {
   "cell_type": "code",
   "execution_count": 4,
   "id": "66d8d5cf-5f93-4237-a046-78e3caab72da",
   "metadata": {},
   "outputs": [],
   "source": [
    "abc_cache = AbcCacheWrapper.from_cache_dir(cache_dir)"
   ]
  },
  {
   "cell_type": "markdown",
   "id": "66a55ea0-edef-401c-b9a1-f1b521d4084c",
   "metadata": {},
   "source": [
    "#### Download database for gene mapping"
   ]
  },
  {
   "cell_type": "code",
   "execution_count": 5,
   "id": "9458564a-c40d-4dc8-a21e-0fe8646e12bb",
   "metadata": {},
   "outputs": [],
   "source": [
    "gene_mapper_db_path = abc_cache.get_data_path(\n",
    "    directory='mmc-gene-mapper',\n",
    "    file_name='mmc_gene_mapper.2025-08-04'\n",
    ")"
   ]
  },
  {
   "cell_type": "markdown",
   "id": "116f11ba-5395-474a-b7df-d44c4812b13d",
   "metadata": {},
   "source": [
    "#### Download file defining SEA-AD MTG taxonomy"
   ]
  },
  {
   "cell_type": "code",
   "execution_count": 6,
   "id": "b03b3362-dd1d-44fc-b627-600ef52b81c0",
   "metadata": {},
   "outputs": [],
   "source": [
    "precomputed_stats_path = abc_cache.get_data_path(\n",
    "    directory='SEAAD-taxonomy',\n",
    "    file_name='precomputed_stats.20231120.sea_ad.MTG'\n",
    ")"
   ]
  },
  {
   "cell_type": "markdown",
   "id": "6e51e064-26eb-4a6c-b8e8-a3dc3926ef30",
   "metadata": {},
   "source": [
    "#### Download example data to map to taxonomy"
   ]
  },
  {
   "cell_type": "code",
   "execution_count": 7,
   "id": "5ebf47e6-8e5c-424e-87a8-18b83d531239",
   "metadata": {},
   "outputs": [],
   "source": [
    "full_data_path = abc_cache.get_data_path(\n",
    "    directory='WHB-10Xv3',\n",
    "    file_name='WHB-10Xv3-Nonneurons/raw'\n",
    ")\n"
   ]
  },
  {
   "cell_type": "markdown",
   "id": "36f4621b-efff-4ee0-90b7-b66ada532a8a",
   "metadata": {},
   "source": [
    "#### Downsample data to map to taxonomy\n",
    "(so the mapping doesn't take forever)"
   ]
  },
  {
   "cell_type": "code",
   "execution_count": 8,
   "id": "14d1169d-45c7-4da6-8a81-6700cb8a5cb1",
   "metadata": {},
   "outputs": [
    {
     "name": "stdout",
     "output_type": "stream",
     "text": [
      "CPU times: user 16 s, sys: 2.63 s, total: 18.6 s\n",
      "Wall time: 20.5 s\n"
     ]
    }
   ],
   "source": [
    "%%time\n",
    "query_path = dst_dir / 'query_data.h5ad'\n",
    "src = anndata.read_h5ad(full_data_path, backed='r')\n",
    "query = src[100000:300000]\n",
    "query.write_h5ad(query_path)\n",
    "src.file.close()\n",
    "del src"
   ]
  },
  {
   "cell_type": "markdown",
   "id": "2338011a-abc7-4219-bd3b-37e1c43fceb1",
   "metadata": {},
   "source": [
    "## Map example data to full taxonomy"
   ]
  },
  {
   "cell_type": "code",
   "execution_count": 9,
   "id": "a5ba0ba9-df80-43ac-ae2a-ba4016e991b7",
   "metadata": {},
   "outputs": [],
   "source": [
    "from cell_type_mapper.cli.map_to_on_the_fly_markers import OnTheFlyMapper"
   ]
  },
  {
   "cell_type": "code",
   "execution_count": 10,
   "id": "2730605a-955a-4a46-877e-7db397017dc9",
   "metadata": {},
   "outputs": [],
   "source": [
    "csv_dst_path = dst_dir / 'full_taxonomy_mapping.csv'\n",
    "json_dst_path = dst_dir / 'full_taxonomy_mapping.json'"
   ]
  },
  {
   "cell_type": "code",
   "execution_count": 11,
   "id": "b8508f94-30ab-46b6-ad64-0153dc990e64",
   "metadata": {},
   "outputs": [],
   "source": [
    "config = {\n",
    "    'gene_mapping': {\n",
    "        'db_path': str(gene_mapper_db_path)\n",
    "    },\n",
    "    'precomputed_stats': {\n",
    "        'path': str(precomputed_stats_path)\n",
    "    },\n",
    "    'type_assignment': {\n",
    "        'bootstrap_factor': 0.5,\n",
    "        'normalization': 'raw'\n",
    "    },\n",
    "    'query_markers': {\n",
    "        'n_per_utility': 15\n",
    "    },\n",
    "    'reference_markers': {\n",
    "        'n_valid': 30\n",
    "    },\n",
    "    'query_path': str(query_path),\n",
    "    'csv_result_path': str(csv_dst_path),\n",
    "    'extended_result_path': str(json_dst_path),\n",
    "    'n_processors': 4,\n",
    "    'verbose_stdout': False\n",
    "}"
   ]
  },
  {
   "cell_type": "code",
   "execution_count": 12,
   "id": "af93d075-2339-4a34-a934-69960db971dd",
   "metadata": {},
   "outputs": [
    {
     "name": "stdout",
     "output_type": "stream",
     "text": [
      "{\n",
      "  \"gene_mapping\": {\n",
      "    \"db_path\": \"/Users/scott.daniel/KnowledgeEngineering/cell_type_mapper/examples/data/abc_cache/mapmycells/mmc-gene-mapper/20250630/mmc_gene_mapper.2025-08-04.db\"\n",
      "  },\n",
      "  \"precomputed_stats\": {\n",
      "    \"path\": \"/Users/scott.daniel/KnowledgeEngineering/cell_type_mapper/examples/data/abc_cache/mapmycells/SEAAD-taxonomy/20240831/precomputed_stats.20231120.sea_ad.MTG.h5\"\n",
      "  },\n",
      "  \"type_assignment\": {\n",
      "    \"bootstrap_factor\": 0.5,\n",
      "    \"normalization\": \"raw\"\n",
      "  },\n",
      "  \"query_markers\": {\n",
      "    \"n_per_utility\": 15\n",
      "  },\n",
      "  \"reference_markers\": {\n",
      "    \"n_valid\": 30\n",
      "  },\n",
      "  \"query_path\": \"data/subset_test/query_data.h5ad\",\n",
      "  \"csv_result_path\": \"data/subset_test/full_taxonomy_mapping.csv\",\n",
      "  \"extended_result_path\": \"data/subset_test/full_taxonomy_mapping.json\",\n",
      "  \"n_processors\": 4,\n",
      "  \"verbose_stdout\": false\n",
      "}\n"
     ]
    }
   ],
   "source": [
    "print(json.dumps(config, indent=2))"
   ]
  },
  {
   "cell_type": "code",
   "execution_count": 13,
   "id": "727b40a7-cd1c-4bd0-8ce7-22f731075d94",
   "metadata": {},
   "outputs": [
    {
     "name": "stdout",
     "output_type": "stream",
     "text": [
      "***Checking to see if we need to map query genes onto reference dataset\n",
      "====Based on 36555 genes, your input data is from species 'Homo sapiens Linnaeus, 1758:9606'\n",
      "Reference data belongs to species Homo sapiens Linnaeus, 1758:9606\n",
      "Reference genes are from authority 'ENSEMBL'\n",
      "Mapping input genes to 'Homo sapiens Linnaeus, 1758:9606 -- ENSEMBL' using\n",
      "http://github.com/AllenInstitute/mmc_gene_mapper version 0.2.1\n",
      "backed by database file: mmc_gene_mapper.2025-08-04.db\n",
      "created on: 2025-08-04-18-10-52\n",
      "hash: md5:755b0724c2ff00cc199f48e2718a09e5\n",
      "Based on 59357 genes, your input data is from species 'Homo sapiens Linnaeus, 1758:9606'\n",
      "Input genes are from species 'Homo sapiens Linnaeus, 1758:9606'\n",
      "***Mapping of query genes to reference dataset complete\n",
      "starting to find reference markers\n",
      "writing /var/folders/8b/hnw5vq8s20jbpz51wdhd11fr0000gp/T/tmpe_19lgis/tmpn5glkofa/reference_markers.20231120.sea_ad.MTG.h5\n",
      "Starting precomputed_stats.20231120.sea_ad.MTG.h5\n",
      "1192 of 9591 taxon pairs in 7.69e+00 sec; predict 5.42e+01 sec of 6.19e+01 sec left\n",
      "2384 of 9591 taxon pairs in 9.11e+00 sec; predict 2.75e+01 sec of 3.67e+01 sec left\n",
      "3576 of 9591 taxon pairs in 1.07e+01 sec; predict 1.81e+01 sec of 2.88e+01 sec left\n",
      "4768 of 9591 taxon pairs in 1.21e+01 sec; predict 1.22e+01 sec of 2.44e+01 sec left\n",
      "5960 of 9591 taxon pairs in 1.59e+01 sec; predict 9.69e+00 sec of 2.56e+01 sec left\n",
      "7152 of 9591 taxon pairs in 1.75e+01 sec; predict 5.98e+00 sec of 2.35e+01 sec left\n",
      "8344 of 9591 taxon pairs in 1.76e+01 sec; predict 2.63e+00 sec of 2.02e+01 sec left\n",
      "9536 of 9591 taxon pairs in 1.93e+01 sec; predict 1.11e-01 sec of 1.94e+01 sec left\n",
      "10728 of 9591 taxon pairs in 2.03e+01 sec; predict -2.15e+00 sec of 1.81e+01 sec left\n",
      "Initial marker discovery took 2.04e+01 seconds\n",
      "joining took 4.684925e-03 seconds\n",
      "joining took 6.669998e-03 seconds\n",
      "Transposing markers took 1.04e+00 seconds\n",
      "Copying to /var/folders/8b/hnw5vq8s20jbpz51wdhd11fr0000gp/T/tmpe_19lgis/tmpn5glkofa/reference_markers.20231120.sea_ad.MTG.h5 took 2.95e-04 seconds\n",
      "Wrote reference_markers.20231120.sea_ad.MTG.h5\n",
      "REFERENCE MARKER FINDER RAN SUCCESSFULLY\n",
      "completed in 2.21e+01 seconds\n",
      "found reference markers\n",
      "found markers for 3 parents in 2.00e-01 minutes; predict 1.66e+00 of 1.86e+00 remaining\n",
      "found markers for 7 parents in 2.70e-01 minutes; predict 8.11e-01 of 1.08e+00 remaining\n",
      "found markers for 10 parents in 3.38e-01 minutes; predict 6.08e-01 of 9.46e-01 remaining\n",
      "found markers for 13 parents in 4.18e-01 minutes; predict 4.83e-01 of 9.01e-01 remaining\n",
      "found markers for 16 parents in 4.88e-01 minutes; predict 3.66e-01 of 8.54e-01 remaining\n",
      "found markers for 19 parents in 5.56e-01 minutes; predict 2.63e-01 of 8.19e-01 remaining\n",
      "found markers for 22 parents in 6.24e-01 minutes; predict 1.70e-01 of 7.94e-01 remaining\n",
      "found markers for 25 parents in 6.94e-01 minutes; predict 8.33e-02 of 7.77e-01 remaining\n",
      "QUERY MARKER FINDER RAN SUCCESSFULLY in 4.67e+01 seconds\n",
      "found query markers\n",
      "=== Running Hierarchical Mapping 1.6.0 \n",
      "\n",
      "ENV: is_torch_available: False\n",
      "ENV: is_cuda_available: False\n",
      "ENV: use_torch: False\n",
      "ENV: multiprocessing start method: spawn\n",
      "ENV: Python version: 3.12.9 | packaged by Anaconda, Inc. | (main, Feb  6 2025, 12:55:12) [Clang 14.0.6 ]\n",
      "ENV: anndata version: 0.12.2\n",
      "ENV: numpy version: 2.2.6\n",
      "FILE TRACKER: copied ../query_data.h5ad to ../query_data__y72ligs.h5ad\n",
      "FILE TRACKER: copied ../precomputed_stats.20231120.sea_ad.MTG.h5 to ../precomputed_stats.20231120.sea_ad.MTG_1ja07f9b.h5\n",
      "BENCHMARK: spent 1.0272e+00 seconds validating config and copying data\n",
      "using ../precomputed_stats.20231120.sea_ad.MTG_1ja07f9b.h5 for precomputed_stats\n",
      "reading taxonomy_tree from ../precomputed_stats.20231120.sea_ad.MTG_1ja07f9b.h5\n"
     ]
    },
    {
     "name": "stderr",
     "output_type": "stream",
     "text": [
      "/Users/scott.daniel/KnowledgeEngineering/cell_type_mapper/src/cell_type_mapper/taxonomy/utils.py:253: UserWarning: This taxonomy has no mapping from leaf_node -> rows in the cell by gene matrix\n",
      "  warnings.warn(\"This taxonomy has no mapping from leaf_node -> rows \"\n"
     ]
    },
    {
     "name": "stdout",
     "output_type": "stream",
     "text": [
      "No gene_mapper_db provided. Assuming that query genes have already been mapped to the same species/authority as reference genes.\n",
      "BENCHMARK: spent 2.6633e-02 seconds creating query marker cache\n",
      "Scanning unlabeled data to check that it is >= 0\n",
      "Verified that unlabeled data is >= 0\n",
      "Running CPU implementation of type assignment.\n",
      "60000 of 200000 cells in 6.35e-01 min; predict 1.48e+00 min of 2.12e+00 min left\n",
      "90000 of 200000 cells in 9.02e-01 min; predict 1.10e+00 min of 2.01e+00 min left\n",
      "120000 of 200000 cells in 7.02e+01 sec; predict 4.68e+01 sec of 1.17e+02 sec left\n",
      "150000 of 200000 cells in 8.60e+01 sec; predict 2.87e+01 sec of 1.15e+02 sec left\n",
      "180000 of 200000 cells in 1.02e+02 sec; predict 1.13e+01 sec of 1.13e+02 sec left\n",
      "BENCHMARK: spent 1.1132e+02 seconds assigning cell types\n",
      "Writing marker genes to output file\n",
      "FILE TRACKER: cleaning up ../file_tracker_os9jll9h\n",
      "MAPPING FROM SPECIFIED MARKERS RAN SUCCESSFULLY\n",
      "CLEANING UP\n",
      "MAPPING FROM ON-THE-FLY MARKERS RAN SUCCESSFULLY\n",
      "CPU times: user 1min 33s, sys: 34.5 s, total: 2min 7s\n",
      "Wall time: 3min 15s\n"
     ]
    }
   ],
   "source": [
    "%%time\n",
    "mapper = OnTheFlyMapper(\n",
    "    args=[],\n",
    "    input_data=config\n",
    ")\n",
    "mapper.run()"
   ]
  },
  {
   "cell_type": "markdown",
   "id": "0ed99b26-e482-4cb3-8b68-e218c139c924",
   "metadata": {},
   "source": [
    "## Plot distribution of bootstrapping_probability of cells assigned to different classes\n",
    "\n",
    "Recall that we specifically downloaded the non-neuronal data from the Siletti et al. 2023 dataset, so we should not expect any cells to appear in the \"Neuronal: GABAergic\" and \"Neuronal: Glutamatergic\" classes."
   ]
  },
  {
   "cell_type": "code",
   "execution_count": 14,
   "id": "9c35c938-bd85-4925-b338-2f55f36e31f4",
   "metadata": {},
   "outputs": [],
   "source": [
    "import matplotlib.pyplot as plt\n",
    "import pandas as pd"
   ]
  },
  {
   "cell_type": "code",
   "execution_count": 15,
   "id": "c32f09cf-cfff-4357-9c60-c1ade9ffe4fa",
   "metadata": {},
   "outputs": [],
   "source": [
    "result_df = pd.read_csv(csv_dst_path, comment='#')"
   ]
  },
  {
   "cell_type": "code",
   "execution_count": 16,
   "id": "2ae31f4d-e832-426e-8b51-cdc9015f7efc",
   "metadata": {},
   "outputs": [
    {
     "name": "stdout",
     "output_type": "stream",
     "text": [
      "{'Neuronal: GABAergic', 'Neuronal: Glutamatergic', 'Non-neuronal and Non-neural'}\n"
     ]
    }
   ],
   "source": [
    "print(set(result_df.class_name.values))"
   ]
  },
  {
   "cell_type": "code",
   "execution_count": 17,
   "id": "1166d0ef-0bc1-4a16-bcc2-6f1a58eb357b",
   "metadata": {},
   "outputs": [
    {
     "data": {
      "image/png": "[encoded data removed]",
      "text/plain": [
       "<Figure size 1000x1000 with 3 Axes>"
      ]
     },
     "metadata": {},
     "output_type": "display_data"
    }
   ],
   "source": [
    "fontsize = 15\n",
    "fig = plt.figure(figsize=(10, 10))\n",
    "axis_list = [fig.add_subplot(2, 2, ii+1) for ii in range(3)]\n",
    "for ii, class_name in enumerate(('Non-neuronal and Non-neural', 'Neuronal: GABAergic', 'Neuronal: Glutamatergic')):\n",
    "    subset = result_df[result_df.class_name == class_name]\n",
    "    axis = axis_list[ii]\n",
    "    title = f'{class_name}: {len(subset):.2e} cells'\n",
    "    axis.set_title(title, fontsize=fontsize)\n",
    "    prob = subset.class_bootstrapping_probability.values\n",
    "    _ = axis.hist(prob, bins=100)\n",
    "    axis.set_xlabel('bootstrapping_probability', fontsize=fontsize)\n",
    "    axis.set_ylabel('Ncells', fontsize=fontsize)\n",
    "fig.tight_layout()"
   ]
  },
  {
   "cell_type": "markdown",
   "id": "7d8792be-fd01-4658-8f46-2d84ecfb6966",
   "metadata": {},
   "source": [
    "## Map data to a truncated taxonomy\n",
    "Use the `nodes_to_drop` configuration parameter to drop the two \"Neuronal\" classes from the taxonomy, forcing every cell to be mapped to the \"Non-neuronal and Non-neural\" class."
   ]
  },
  {
   "cell_type": "code",
   "execution_count": 18,
   "id": "f7e57a02-596e-450f-a354-b8e71b47516a",
   "metadata": {},
   "outputs": [],
   "source": [
    "dropped_csv_dst_path = dst_dir / 'trimmed_taxonomy_mapping.csv'\n",
    "dropped_json_dst_path = dst_dir / 'trimmed_taxonomy_mapping.json'"
   ]
  },
  {
   "cell_type": "code",
   "execution_count": 19,
   "id": "b9a766cc-2012-451c-908e-81dbd675e3c5",
   "metadata": {},
   "outputs": [],
   "source": [
    "drop_config = {\n",
    "    'gene_mapping': {\n",
    "        'db_path': str(gene_mapper_db_path)\n",
    "    },\n",
    "    'precomputed_stats': {\n",
    "        'path': str(precomputed_stats_path)\n",
    "    },\n",
    "    'type_assignment': {\n",
    "        'bootstrap_factor': 0.5,\n",
    "        'normalization': 'raw'\n",
    "    },\n",
    "    'query_markers': {\n",
    "        'n_per_utility': 15\n",
    "    },\n",
    "    'reference_markers': {\n",
    "        'n_valid': 30\n",
    "    },\n",
    "    'query_path': str(query_path),\n",
    "    'csv_result_path': str(dropped_csv_dst_path),\n",
    "    'extended_result_path': str(dropped_json_dst_path),\n",
    "    'n_processors': 4,\n",
    "    'verbose_stdout': False,\n",
    "    'nodes_to_drop': [\n",
    "        ('class', 'Neuronal: Glutamatergic'),\n",
    "        ('class', 'Neuronal: GABAergic')\n",
    "    ]\n",
    "}"
   ]
  },
  {
   "cell_type": "code",
   "execution_count": 20,
   "id": "f6fe4182-2cef-4798-946a-208b00010fe5",
   "metadata": {},
   "outputs": [
    {
     "name": "stdout",
     "output_type": "stream",
     "text": [
      "{\n",
      "  \"gene_mapping\": {\n",
      "    \"db_path\": \"/Users/scott.daniel/KnowledgeEngineering/cell_type_mapper/examples/data/abc_cache/mapmycells/mmc-gene-mapper/20250630/mmc_gene_mapper.2025-08-04.db\"\n",
      "  },\n",
      "  \"precomputed_stats\": {\n",
      "    \"path\": \"/Users/scott.daniel/KnowledgeEngineering/cell_type_mapper/examples/data/abc_cache/mapmycells/SEAAD-taxonomy/20240831/precomputed_stats.20231120.sea_ad.MTG.h5\"\n",
      "  },\n",
      "  \"type_assignment\": {\n",
      "    \"bootstrap_factor\": 0.5,\n",
      "    \"normalization\": \"raw\"\n",
      "  },\n",
      "  \"query_markers\": {\n",
      "    \"n_per_utility\": 15\n",
      "  },\n",
      "  \"reference_markers\": {\n",
      "    \"n_valid\": 30\n",
      "  },\n",
      "  \"query_path\": \"data/subset_test/query_data.h5ad\",\n",
      "  \"csv_result_path\": \"data/subset_test/trimmed_taxonomy_mapping.csv\",\n",
      "  \"extended_result_path\": \"data/subset_test/trimmed_taxonomy_mapping.json\",\n",
      "  \"n_processors\": 4,\n",
      "  \"verbose_stdout\": false,\n",
      "  \"nodes_to_drop\": [\n",
      "    [\n",
      "      \"class\",\n",
      "      \"Neuronal: Glutamatergic\"\n",
      "    ],\n",
      "    [\n",
      "      \"class\",\n",
      "      \"Neuronal: GABAergic\"\n",
      "    ]\n",
      "  ]\n",
      "}\n"
     ]
    }
   ],
   "source": [
    "print(json.dumps(drop_config, indent=2))"
   ]
  },
  {
   "cell_type": "code",
   "execution_count": 21,
   "id": "c172e1f2-2a5f-428f-bfc1-cc5a8987285a",
   "metadata": {},
   "outputs": [
    {
     "name": "stdout",
     "output_type": "stream",
     "text": [
      "***Checking to see if we need to map query genes onto reference dataset\n",
      "====Based on 36555 genes, your input data is from species 'Homo sapiens Linnaeus, 1758:9606'\n",
      "Reference data belongs to species Homo sapiens Linnaeus, 1758:9606\n",
      "Reference genes are from authority 'ENSEMBL'\n",
      "Mapping input genes to 'Homo sapiens Linnaeus, 1758:9606 -- ENSEMBL' using\n",
      "http://github.com/AllenInstitute/mmc_gene_mapper version 0.2.1\n",
      "backed by database file: mmc_gene_mapper.2025-08-04.db\n",
      "created on: 2025-08-04-18-10-52\n",
      "hash: md5:755b0724c2ff00cc199f48e2718a09e5\n",
      "Based on 59357 genes, your input data is from species 'Homo sapiens Linnaeus, 1758:9606'\n",
      "Input genes are from species 'Homo sapiens Linnaeus, 1758:9606'\n",
      "***Mapping of query genes to reference dataset complete\n",
      "starting to find reference markers\n",
      "writing /var/folders/8b/hnw5vq8s20jbpz51wdhd11fr0000gp/T/tmppndw6zkb/tmp8kkjuv2b/reference_markers.20231120.sea_ad.MTG.h5izp81ir5.h5\n",
      "Starting precomputed_stats.20231120.sea_ad.MTG.h5izp81ir5.h5\n"
     ]
    },
    {
     "name": "stderr",
     "output_type": "stream",
     "text": [
      "/Users/scott.daniel/KnowledgeEngineering/cell_type_mapper/src/cell_type_mapper/taxonomy/utils.py:253: UserWarning: This taxonomy has no mapping from leaf_node -> rows in the cell by gene matrix\n",
      "  warnings.warn(\"This taxonomy has no mapping from leaf_node -> rows \"\n"
     ]
    },
    {
     "name": "stdout",
     "output_type": "stream",
     "text": [
      "144 of 435 taxon pairs in 6.54e+00 sec; predict 1.32e+01 sec of 1.98e+01 sec left\n",
      "288 of 435 taxon pairs in 1.01e+01 sec; predict 5.16e+00 sec of 1.53e+01 sec left\n",
      "432 of 435 taxon pairs in 1.41e+01 sec; predict 9.76e-02 sec of 1.42e+01 sec left\n",
      "480 of 435 taxon pairs in 1.41e+01 sec; predict -1.33e+00 sec of 1.28e+01 sec left\n",
      "Initial marker discovery took 1.42e+01 seconds\n",
      "joining took 3.111124e-03 seconds\n",
      "joining took 2.846956e-03 seconds\n",
      "Transposing markers took 4.76e-01 seconds\n",
      "Copying to /var/folders/8b/hnw5vq8s20jbpz51wdhd11fr0000gp/T/tmppndw6zkb/tmp8kkjuv2b/reference_markers.20231120.sea_ad.MTG.h5izp81ir5.h5 took 5.16e-04 seconds\n",
      "Wrote reference_markers.20231120.sea_ad.MTG.h5izp81ir5.h5\n",
      "REFERENCE MARKER FINDER RAN SUCCESSFULLY\n",
      "completed in 1.47e+01 seconds\n",
      "found reference markers\n"
     ]
    },
    {
     "name": "stderr",
     "output_type": "stream",
     "text": [
      "/Users/scott.daniel/KnowledgeEngineering/cell_type_mapper/src/cell_type_mapper/taxonomy/utils.py:253: UserWarning: This taxonomy has no mapping from leaf_node -> rows in the cell by gene matrix\n",
      "  warnings.warn(\"This taxonomy has no mapping from leaf_node -> rows \"\n"
     ]
    },
    {
     "name": "stdout",
     "output_type": "stream",
     "text": [
      "found markers for 2 parents in 2.29e-02 minutes; predict 6.88e-02 of 9.18e-02 remaining\n",
      "found markers for 3 parents in 2.94e-02 minutes; predict 4.90e-02 of 7.84e-02 remaining\n",
      "found markers for 4 parents in 3.59e-02 minutes; predict 3.59e-02 of 7.19e-02 remaining\n",
      "found markers for 5 parents in 4.27e-02 minutes; predict 2.56e-02 of 6.83e-02 remaining\n",
      "QUERY MARKER FINDER RAN SUCCESSFULLY in 3.79e+00 seconds\n",
      "found query markers\n",
      "=== Running Hierarchical Mapping 1.6.0 \n",
      "\n",
      "ENV: is_torch_available: False\n",
      "ENV: is_cuda_available: False\n",
      "ENV: use_torch: False\n",
      "ENV: multiprocessing start method: spawn\n",
      "ENV: Python version: 3.12.9 | packaged by Anaconda, Inc. | (main, Feb  6 2025, 12:55:12) [Clang 14.0.6 ]\n",
      "ENV: anndata version: 0.12.2\n",
      "ENV: numpy version: 2.2.6\n",
      "FILE TRACKER: copied ../query_data.h5ad to ../query_data_pn_yctf_.h5ad\n",
      "FILE TRACKER: copied ../precomputed_stats.20231120.sea_ad.MTG.h5izp81ir5.h5 to ../precomputed_stats.20231120.sea_ad.MTGizp81ir5_p8j5h54t.h5\n",
      "BENCHMARK: spent 1.2684e+00 seconds validating config and copying data\n",
      "using ../precomputed_stats.20231120.sea_ad.MTGizp81ir5_p8j5h54t.h5 for precomputed_stats\n",
      "reading taxonomy_tree from ../precomputed_stats.20231120.sea_ad.MTGizp81ir5_p8j5h54t.h5\n",
      "No gene_mapper_db provided. Assuming that query genes have already been mapped to the same species/authority as reference genes.\n",
      "BENCHMARK: spent 2.2415e-02 seconds creating query marker cache\n",
      "Scanning unlabeled data to check that it is >= 0\n",
      "Verified that unlabeled data is >= 0\n",
      "Running CPU implementation of type assignment.\n",
      "60000 of 200000 cells in 6.05e-01 min; predict 1.41e+00 min of 2.02e+00 min left\n",
      "90000 of 200000 cells in 5.19e+01 sec; predict 6.34e+01 sec of 1.15e+02 sec left\n",
      "120000 of 200000 cells in 6.74e+01 sec; predict 4.50e+01 sec of 1.12e+02 sec left\n",
      "150000 of 200000 cells in 8.29e+01 sec; predict 2.76e+01 sec of 1.11e+02 sec left\n",
      "180000 of 200000 cells in 9.83e+01 sec; predict 1.09e+01 sec of 1.09e+02 sec left\n",
      "BENCHMARK: spent 1.0674e+02 seconds assigning cell types\n",
      "Writing marker genes to output file\n",
      "FILE TRACKER: cleaning up ../file_tracker_5jfwz3i1\n",
      "MAPPING FROM SPECIFIED MARKERS RAN SUCCESSFULLY\n",
      "CLEANING UP\n",
      "MAPPING FROM ON-THE-FLY MARKERS RAN SUCCESSFULLY\n",
      "CPU times: user 1min 19s, sys: 25.8 s, total: 1min 45s\n",
      "Wall time: 2min 20s\n"
     ]
    }
   ],
   "source": [
    "%%time\n",
    "mapper = OnTheFlyMapper(\n",
    "    args=[],\n",
    "    input_data=drop_config\n",
    ")\n",
    "mapper.run()"
   ]
  },
  {
   "cell_type": "markdown",
   "id": "42c4dc89-48a2-4232-a44e-7f4b3e07675d",
   "metadata": {},
   "source": [
    "### Examine the results of the truncated mapping\n",
    "see that only one class is present in the mapping now"
   ]
  },
  {
   "cell_type": "code",
   "execution_count": 22,
   "id": "f4eff822-5b4e-45f1-a0e0-4e63c953f019",
   "metadata": {},
   "outputs": [
    {
     "name": "stdout",
     "output_type": "stream",
     "text": [
      "{'Non-neuronal and Non-neural'}\n"
     ]
    }
   ],
   "source": [
    "dropped_result_df = pd.read_csv(dropped_csv_dst_path, comment='#')\n",
    "print(set(dropped_result_df.class_name))"
   ]
  },
  {
   "cell_type": "markdown",
   "id": "44c88b18-a837-4a3f-8a53-e8c218736885",
   "metadata": {},
   "source": [
    "To verify that this is not just a trick of statistics, we will load the metadata from the two mappings and look at how may classes are present in the taxonomies to which the data was mapped."
   ]
  },
  {
   "cell_type": "code",
   "execution_count": 23,
   "id": "da5ed0d0-5ac6-4200-8d1b-092af6db4c93",
   "metadata": {},
   "outputs": [],
   "source": [
    "with open(json_dst_path, 'rb') as src:\n",
    "    full_mapping = json.load(src)\n",
    "with open(dropped_json_dst_path, 'rb') as src:\n",
    "    dropped_mapping = json.load(src)"
   ]
  },
  {
   "cell_type": "markdown",
   "id": "6af955f3-148f-4167-9662-f683346c44b7",
   "metadata": {},
   "source": [
    "The full taxonomy mapping lists all three classes"
   ]
  },
  {
   "cell_type": "code",
   "execution_count": 24,
   "id": "6942fd3f-dad1-4e29-b8d5-1c056f5436e4",
   "metadata": {},
   "outputs": [
    {
     "name": "stdout",
     "output_type": "stream",
     "text": [
      "dict_keys(['CS20230505_CLAS_0001', 'CS20230505_CLAS_0002', 'CS20230505_CLAS_0003'])\n"
     ]
    }
   ],
   "source": [
    "print(full_mapping['taxonomy_tree']['CCN20230505_CLAS'].keys())"
   ]
  },
  {
   "cell_type": "markdown",
   "id": "5dd12270-2c09-445f-b0a8-f4fd8e46f23c",
   "metadata": {},
   "source": [
    "The truncated mapping lists only one class (the non-neuronal class)"
   ]
  },
  {
   "cell_type": "code",
   "execution_count": 25,
   "id": "6fd2adcb-e2e3-4097-a4cb-822d0c5218d6",
   "metadata": {},
   "outputs": [
    {
     "name": "stdout",
     "output_type": "stream",
     "text": [
      "dict_keys(['CS20230505_CLAS_0003'])\n"
     ]
    }
   ],
   "source": [
    "print(dropped_mapping['taxonomy_tree']['CCN20230505_CLAS'].keys())"
   ]
  },
  {
   "cell_type": "markdown",
   "id": "b6f65977-9cfa-4c95-8a0f-c93d9076e6e4",
   "metadata": {},
   "source": [
    "## How to run the truncated mapping from the command line"
   ]
  },
  {
   "cell_type": "code",
   "execution_count": 26,
   "id": "54896038-5cf5-4d27-a959-b50483d9230f",
   "metadata": {},
   "outputs": [
    {
     "name": "stdout",
     "output_type": "stream",
     "text": [
      "***Checking to see if we need to map query genes onto reference dataset\n",
      "====Based on 36555 genes, your input data is from species 'Homo sapiens Linnaeus, 1758:9606'\n",
      "Reference data belongs to species Homo sapiens Linnaeus, 1758:9606\n",
      "Reference genes are from authority 'ENSEMBL'\n",
      "Mapping input genes to 'Homo sapiens Linnaeus, 1758:9606 -- ENSEMBL' using\n",
      "http://github.com/AllenInstitute/mmc_gene_mapper version 0.2.1\n",
      "backed by database file: mmc_gene_mapper.2025-08-04.db\n",
      "created on: 2025-08-04-18-10-52\n",
      "hash: md5:755b0724c2ff00cc199f48e2718a09e5\n",
      "Based on 59357 genes, your input data is from species 'Homo sapiens Linnaeus, 1758:9606'\n",
      "Input genes are from species 'Homo sapiens Linnaeus, 1758:9606'\n",
      "***Mapping of query genes to reference dataset complete\n",
      "starting to find reference markers\n",
      "writing /var/folders/8b/hnw5vq8s20jbpz51wdhd11fr0000gp/T/tmpvt26jed3/tmpftas5pzi/reference_markers.20231120.sea_ad.MTG.h5xkdy2jej.h5\n",
      "/Users/scott.daniel/KnowledgeEngineering/cell_type_mapper/src/cell_type_mapper/taxonomy/utils.py:253: UserWarning: This taxonomy has no mapping from leaf_node -> rows in the cell by gene matrix\n",
      "  warnings.warn(\"This taxonomy has no mapping from leaf_node -> rows \"\n",
      "Starting precomputed_stats.20231120.sea_ad.MTG.h5xkdy2jej.h5\n",
      "144 of 435 taxon pairs in 5.59e+00 sec; predict 1.13e+01 sec of 1.69e+01 sec left\n",
      "288 of 435 taxon pairs in 9.92e+00 sec; predict 5.06e+00 sec of 1.50e+01 sec left\n",
      "432 of 435 taxon pairs in 1.42e+01 sec; predict 9.87e-02 sec of 1.43e+01 sec left\n",
      "480 of 435 taxon pairs in 1.43e+01 sec; predict -1.34e+00 sec of 1.30e+01 sec left\n",
      "Initial marker discovery took 1.44e+01 seconds\n",
      "joining took 3.068209e-03 seconds\n",
      "joining took 3.165007e-03 seconds\n",
      "Transposing markers took 3.48e+00 seconds\n",
      "Copying to /var/folders/8b/hnw5vq8s20jbpz51wdhd11fr0000gp/T/tmpvt26jed3/tmpftas5pzi/reference_markers.20231120.sea_ad.MTG.h5xkdy2jej.h5 took 3.24e-04 seconds\n",
      "Wrote reference_markers.20231120.sea_ad.MTG.h5xkdy2jej.h5\n",
      "REFERENCE MARKER FINDER RAN SUCCESSFULLY\n",
      "completed in 1.79e+01 seconds\n",
      "found reference markers\n",
      "/Users/scott.daniel/KnowledgeEngineering/cell_type_mapper/src/cell_type_mapper/taxonomy/utils.py:253: UserWarning: This taxonomy has no mapping from leaf_node -> rows in the cell by gene matrix\n",
      "  warnings.warn(\"This taxonomy has no mapping from leaf_node -> rows \"\n",
      "found markers for 4 parents in 1.02e-01 minutes; predict 1.02e-01 of 2.05e-01 remaining\n",
      "found markers for 7 parents in 1.80e-01 minutes; predict 2.58e-02 of 2.06e-01 remaining\n",
      "QUERY MARKER FINDER RAN SUCCESSFULLY in 1.27e+01 seconds\n",
      "found query markers\n",
      "=== Running Hierarchical Mapping 1.6.0 \n",
      "\n",
      "ENV: is_torch_available: False\n",
      "ENV: is_cuda_available: False\n",
      "ENV: use_torch: False\n",
      "ENV: multiprocessing start method: spawn\n",
      "ENV: Python version: 3.12.9 | packaged by Anaconda, Inc. | (main, Feb  6 2025, 12:55:12) [Clang 14.0.6 ]\n",
      "ENV: anndata version: 0.12.2\n",
      "ENV: numpy version: 2.2.6\n",
      "FILE TRACKER: copied ../query_data.h5ad to ../query_data_kbi4bhgm.h5ad\n",
      "FILE TRACKER: copied ../precomputed_stats.20231120.sea_ad.MTG.h5xkdy2jej.h5 to ../precomputed_stats.20231120.sea_ad.MTGxkdy2jej_9n3yaa6t.h5\n",
      "BENCHMARK: spent 1.3241e+00 seconds validating config and copying data\n",
      "using ../precomputed_stats.20231120.sea_ad.MTGxkdy2jej_9n3yaa6t.h5 for precomputed_stats\n",
      "reading taxonomy_tree from ../precomputed_stats.20231120.sea_ad.MTGxkdy2jej_9n3yaa6t.h5\n",
      "No gene_mapper_db provided. Assuming that query genes have already been mapped to the same species/authority as reference genes.\n",
      "BENCHMARK: spent 1.8978e-02 seconds creating query marker cache\n",
      "Scanning unlabeled data to check that it is >= 0\n",
      "Verified that unlabeled data is >= 0\n",
      "Running CPU implementation of type assignment.\n",
      "60000 of 200000 cells in 6.72e-01 min; predict 1.57e+00 min of 2.24e+00 min left\n",
      "90000 of 200000 cells in 9.65e-01 min; predict 1.18e+00 min of 2.14e+00 min left\n",
      "120000 of 200000 cells in 1.25e+00 min; predict 8.37e-01 min of 2.09e+00 min left\n",
      "150000 of 200000 cells in 1.54e+00 min; predict 5.14e-01 min of 2.06e+00 min left\n",
      "180000 of 200000 cells in 1.83e+00 min; predict 2.04e-01 min of 2.04e+00 min left\n",
      "BENCHMARK: spent 1.1898e+02 seconds assigning cell types\n",
      "Writing marker genes to output file\n",
      "FILE TRACKER: cleaning up ../file_tracker_tc4jbouj\n",
      "MAPPING FROM SPECIFIED MARKERS RAN SUCCESSFULLY\n",
      "CLEANING UP\n",
      "MAPPING FROM ON-THE-FLY MARKERS RAN SUCCESSFULLY\n"
     ]
    }
   ],
   "source": [
    "!python -m cell_type_mapper.cli.map_to_on_the_fly_markers \\\n",
    "--gene_mapping.db_path \"data/abc_cache/mapmycells/mmc-gene-mapper/20250630/mmc_gene_mapper.2025-08-04.db\" \\\n",
    "--precomputed_stats.path \"data/abc_cache/mapmycells/SEAAD-taxonomy/20240831/precomputed_stats.20231120.sea_ad.MTG.h5\" \\\n",
    "--type_assignment.bootstrap_factor 0.5 \\\n",
    "--type_assignment.normalization \"raw\" \\\n",
    "--query_markers.n_per_utility 15 \\\n",
    "--reference_markers.n_valid 30 \\\n",
    "--query_path \"data/subset_test/query_data.h5ad\" \\\n",
    "--csv_result_path \"data/subset_test/dropped_taxonomy_mapping.cli.csv\" \\\n",
    "--extended_result_path \"data/subset_test/dropped_taxonomy_mapping.cli.json\" \\\n",
    "--n_processors 4 \\\n",
    "--verbose_stdout False \\\n",
    "--nodes_to_drop '[[\"class\", \"Neuronal: Glutamatergic\"], [\"class\", \"Neuronal: GABAergic\"]]'"
   ]
  },
  {
   "cell_type": "markdown",
   "id": "262d164b-b544-4c28-b652-8ee504dae6da",
   "metadata": {},
   "source": [
    "Again: we have mapped to a taxonomy with a single class"
   ]
  },
  {
   "cell_type": "code",
   "execution_count": 27,
   "id": "a9e22c2f-40f0-4a5f-b15c-e0fdf540fb2f",
   "metadata": {},
   "outputs": [],
   "source": [
    "with open(\"data/subset_test/dropped_taxonomy_mapping.cli.json\", \"rb\") as src:\n",
    "    cli_mapping = json.load(src)"
   ]
  },
  {
   "cell_type": "code",
   "execution_count": 28,
   "id": "d74a0008-2f1a-4244-a3bd-04168e8698c7",
   "metadata": {},
   "outputs": [
    {
     "name": "stdout",
     "output_type": "stream",
     "text": [
      "dict_keys(['CS20230505_CLAS_0003'])\n"
     ]
    }
   ],
   "source": [
    "print(cli_mapping['taxonomy_tree']['CCN20230505_CLAS'].keys())"
   ]
  },
  {
   "cell_type": "code",
   "execution_count": null,
   "id": "999b46ec-f96a-42b6-93e2-cf391cbd75c2",
   "metadata": {},
   "outputs": [],
   "source": []
  }
 ],
 "metadata": {
  "kernelspec": {
   "display_name": "Python 3 (ipykernel)",
   "language": "python",
   "name": "python3"
  },
  "language_info": {
   "codemirror_mode": {
    "name": "ipython",
    "version": 3
   },
   "file_extension": ".py",
   "mimetype": "text/x-python",
   "name": "python",
   "nbconvert_exporter": "python",
   "pygments_lexer": "ipython3",
   "version": "3.12.9"
  }
 },
 "nbformat": 4,
 "nbformat_minor": 5
}
